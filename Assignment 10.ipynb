{
 "cells": [
  {
   "cell_type": "markdown",
   "id": "04a38dd8",
   "metadata": {},
   "source": [
    "# 1. Define the Bayesian interpretation of probability."
   ]
  },
  {
   "cell_type": "code",
   "execution_count": 1,
   "id": "7401f953",
   "metadata": {},
   "outputs": [],
   "source": [
    "# Ans : Bayesian probability is the study of subjective probabilities or belief in an outcome, compared to the frequentist\n",
    "#       approach where probabilities are based purely on the past occurrence of the event. A Bayesian Network captures the \n",
    "#       joint probabilities of the events represented by the model."
   ]
  },
  {
   "cell_type": "markdown",
   "id": "4ae92cb5",
   "metadata": {},
   "source": [
    "# 2. Define probability of a union of two events with equation."
   ]
  },
  {
   "cell_type": "code",
   "execution_count": 1,
   "id": "6970ae37",
   "metadata": {},
   "outputs": [],
   "source": [
    "# Ans : The general probability addition rule for the union of two events states that \n",
    "#       P(A∪B)=P(A)+P(B)−P(A∩B) P ( A ∪ B ) = P ( A ) + P ( B ) − P ( A ∩ B ) , where A∩B A ∩ B is the intersection of the\n",
    "#       two sets."
   ]
  },
  {
   "cell_type": "markdown",
   "id": "21748408",
   "metadata": {},
   "source": [
    "# 3. What is joint probability? What is its formula?"
   ]
  },
  {
   "cell_type": "code",
   "execution_count": 2,
   "id": "a8f39652",
   "metadata": {},
   "outputs": [],
   "source": [
    "# Ans : Probabilities are combined using multiplication, therefore the joint probability of independent events is calculated \n",
    "#       as the probability of event A multiplied by the probability of event B. This can be stated formally as follows: Joint \n",
    "#       Probability: P(A and B) = P(A) * P(B)"
   ]
  },
  {
   "cell_type": "markdown",
   "id": "49294b53",
   "metadata": {},
   "source": [
    "# 4. What is chain rule of probability?"
   ]
  },
  {
   "cell_type": "code",
   "execution_count": 3,
   "id": "179dd998",
   "metadata": {},
   "outputs": [],
   "source": [
    "# Ans : The chain rule, or general product rule, calculates any component of the joint distribution of a set of random \n",
    "#       variables using only conditional probabilities. This probability theory is used as a foundation for backpropagation\n",
    "#       and in creating Bayesian networks."
   ]
  },
  {
   "cell_type": "markdown",
   "id": "2eb1ce92",
   "metadata": {},
   "source": [
    "# 5. What is conditional probability means? What is the formula of it?"
   ]
  },
  {
   "cell_type": "code",
   "execution_count": 4,
   "id": "894ed584",
   "metadata": {},
   "outputs": [],
   "source": [
    "# Ans : Conditional probability is defined as the likelihood of an event or outcome occurring, based on the occurrence of a \n",
    "#       previous event or outcome. Conditional probability is calculated by multiplying the probability of the preceding event \n",
    "#       by the updated probability of the succeeding, or conditional, event.\n",
    "#       Let's take a real-life example. Probability of selling a TV on a given normal day may be only 30%. But if we consider\n",
    "#       that given day is Diwali, then there are much more chances of selling a TV. The conditional Probability of selling a \n",
    "#       TV on a day given that Day is Diwali might be 70%."
   ]
  },
  {
   "cell_type": "markdown",
   "id": "1961aa75",
   "metadata": {},
   "source": [
    "# 6. What are continuous random variables?"
   ]
  },
  {
   "cell_type": "code",
   "execution_count": 5,
   "id": "8f5981aa",
   "metadata": {},
   "outputs": [],
   "source": [
    "# Ans : A continuous random variable X takes all values in a given interval of numbers. ▪ The probability distribution of a \n",
    "#       continuous random variable is shown by a density curve. ▪ The probability that X is between an interval of numbers is \n",
    "#       the area under the density curve between the interval endpoints."
   ]
  },
  {
   "cell_type": "markdown",
   "id": "03d1ead5",
   "metadata": {},
   "source": [
    "# 7. What are Bernoulli distributions? What is the formula of it?"
   ]
  },
  {
   "cell_type": "code",
   "execution_count": 6,
   "id": "501f94f5",
   "metadata": {},
   "outputs": [],
   "source": [
    "# Ans : A Bernoulli distribution is a discrete probability distribution for a Bernoulli trial — a random experiment that has \n",
    "#       only two outcomes (usually called a “Success” or a “Failure”).The expected value for a random variable, X, for a \n",
    "#       Bernoulli distribution is: E[X] = p. For example, if p = . 04, then E[X] = 0.4"
   ]
  },
  {
   "cell_type": "markdown",
   "id": "a6336198",
   "metadata": {},
   "source": [
    "# 8. What is binomial distribution? What is the formula?"
   ]
  },
  {
   "cell_type": "code",
   "execution_count": 7,
   "id": "50e65f24",
   "metadata": {},
   "outputs": [],
   "source": [
    "# Ans : The binomial is a type of distribution that has two possible outcomes (the prefix “bi” means two, or twice). \n",
    "#       For example, a coin toss has only two possible outcomes: heads or tails and taking a test could have two possible \n",
    "#       outcomes: pass or fail. A Binomial Distribution shows either (S)uccess or (F)ailure."
   ]
  },
  {
   "cell_type": "markdown",
   "id": "1beeabb7",
   "metadata": {},
   "source": [
    "# 9. What is Poisson distribution? What is the formula?"
   ]
  },
  {
   "cell_type": "code",
   "execution_count": 8,
   "id": "e43ce9e0",
   "metadata": {},
   "outputs": [],
   "source": [
    "# Ans : A Poisson distribution is defined as a discrete frequency distribution that gives the probability of the number of \n",
    "#       independent events that occur in the fixed time.\n",
    "#       In statistics, a Poisson distribution is a probability distribution that is used to show how many times an event is\n",
    "#       likely to occur over a specified period. ... The Poisson distribution is a discrete function, meaning that the variable\n",
    "#       can only take specific values in a (potentially infinite) list."
   ]
  },
  {
   "cell_type": "markdown",
   "id": "cf67c57e",
   "metadata": {},
   "source": [
    "# 10. Define covariance."
   ]
  },
  {
   "cell_type": "code",
   "execution_count": 9,
   "id": "03e58180",
   "metadata": {},
   "outputs": [],
   "source": [
    "# Ans : Covariance is a measure of how much two random variables vary together. It's similar to variance, but where variance \n",
    "#       tells you how a single variable varies, co variance tells you how two variables vary together."
   ]
  },
  {
   "cell_type": "markdown",
   "id": "0b435012",
   "metadata": {},
   "source": [
    "# 11. Define correlation"
   ]
  },
  {
   "cell_type": "code",
   "execution_count": 10,
   "id": "3afd76aa",
   "metadata": {},
   "outputs": [],
   "source": [
    "# Ans : Correlation explains how one or more variables are related to each other. These variables can be input data features \n",
    "#       which have been used to forecast our target variable. It's a bi-variate analysis measure which describes the \n",
    "#       association between different variables."
   ]
  },
  {
   "cell_type": "markdown",
   "id": "6f47699a",
   "metadata": {},
   "source": [
    "# 12. Define sampling with replacement. Give example."
   ]
  },
  {
   "cell_type": "code",
   "execution_count": 11,
   "id": "c665cbe9",
   "metadata": {},
   "outputs": [],
   "source": [
    "# Ans : If you sample with replacement, you would choose one person's name, put that person's name back in the hat, and \n",
    "#       then choose another name. The possibilities for your two-name sample are: John, John. John, Jack."
   ]
  },
  {
   "cell_type": "markdown",
   "id": "8c385861",
   "metadata": {},
   "source": [
    "# 13. What is sampling without replacement? Give example."
   ]
  },
  {
   "cell_type": "code",
   "execution_count": 12,
   "id": "8ea779fa",
   "metadata": {},
   "outputs": [],
   "source": [
    "# Ans : In sampling without replacement, each sample unit of the population has only one chance to be selected in the sample. \n",
    "#       For example, if one draws a simple random sample such that no unit occurs more than one time in the sample, the sample \n",
    "#       is drawn without replacement."
   ]
  },
  {
   "cell_type": "markdown",
   "id": "0b42cf03",
   "metadata": {},
   "source": [
    "# 14. What is hypothesis? Give example."
   ]
  },
  {
   "cell_type": "code",
   "execution_count": 13,
   "id": "b35952b6",
   "metadata": {},
   "outputs": [],
   "source": [
    "# Ans : A hypothesis (plural hypotheses) is a proposed explanation for a phenomenon. For a hypothesis to be a scientific\n",
    "#       hypothesis, the scientific method requires that one can test it. ... Even though the words \"hypothesis\" and \"theory\"\n",
    "#       are often used synonymously, a scientific hypothesis is not the same as a scientific theory.\n",
    "#       examples of hypothesis statements: If garlic repels fleas, then a dog that is given garlic every day will not get \n",
    "#       fleas. Bacterial growth may be affected by moisture levels in the air. If sugar causes cavities, then people who eat\n",
    "#       a lot of candy may be more prone to cavities."
   ]
  }
 ],
 "metadata": {
  "kernelspec": {
   "display_name": "Python 3",
   "language": "python",
   "name": "python3"
  },
  "language_info": {
   "codemirror_mode": {
    "name": "ipython",
    "version": 3
   },
   "file_extension": ".py",
   "mimetype": "text/x-python",
   "name": "python",
   "nbconvert_exporter": "python",
   "pygments_lexer": "ipython3",
   "version": "3.8.8"
  }
 },
 "nbformat": 4,
 "nbformat_minor": 5
}
