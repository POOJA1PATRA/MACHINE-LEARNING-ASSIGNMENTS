{
 "cells": [
  {
   "cell_type": "markdown",
   "id": "957f9c5d",
   "metadata": {},
   "source": [
    "# 1. What is the concept of human learning? Please give two examples."
   ]
  },
  {
   "cell_type": "code",
   "execution_count": 1,
   "id": "ab6b5f88",
   "metadata": {},
   "outputs": [],
   "source": [
    "# Ans : It is the form of learning which requires higher order mental processes like thinking, reasoning, intelligence, etc.\n",
    "#       we learn different concepts from childhood. For example, Learning through association - Classical Conditioning.\n",
    "#       Learning through consequences – Operant Conditioning. Learning through observation – Modeling/Observational Learning."
   ]
  },
  {
   "cell_type": "markdown",
   "id": "4637febb",
   "metadata": {},
   "source": [
    "# 2. What different forms of human learning are there? Are there any machine learning equivalents?"
   ]
  },
  {
   "cell_type": "code",
   "execution_count": 3,
   "id": "3a209c02",
   "metadata": {},
   "outputs": [],
   "source": [
    "# Ans : Different Forms of ML are as follows :\n",
    "#       Artificial Intelligence. Learning Theories. Machine Learning. Reinforcement Learning. Supervised Learning. \n",
    "#       Unsupervised Learning.\n",
    "#       ML equivalents like Linear regression, decision trees, random forest and support vector machines are some commonly \n",
    "#       used techniques that are actually examples of supervised learning."
   ]
  },
  {
   "cell_type": "markdown",
   "id": "0623dafc",
   "metadata": {},
   "source": [
    "# 3. What is machine learning, and how does it work? What are the key responsibilities of machine learning?"
   ]
  },
  {
   "cell_type": "code",
   "execution_count": 4,
   "id": "56043f3b",
   "metadata": {},
   "outputs": [],
   "source": [
    "# Ans : Machine learning is a form of artificial intelligence (AI) that teaches computers to think in a similar way to how \n",
    "#       humans do: Learning and improving upon past experiences. It works by exploring data and identifying patterns, and \n",
    "#       involves minimal human intervention.\n",
    "#       Roles and responsibilities of a machine learning engineer: Designing ML systems. \n",
    "#       Researching and implementing ML algorithms and tools. Selecting appropriate data sets. \n",
    "#       Picking appropriate data representation methods. Identifying differences in data distribution that \n",
    "#       affects model performance. Verifying data quality."
   ]
  },
  {
   "cell_type": "markdown",
   "id": "aea7d8af",
   "metadata": {},
   "source": [
    "# 4. Define the terms &quot;penalty&quot; and &quot;reward&quot; in the context of reinforcement learning."
   ]
  },
  {
   "cell_type": "code",
   "execution_count": 5,
   "id": "248937af",
   "metadata": {},
   "outputs": [],
   "source": [
    "# Ans : A reinforcement learning algorithm, which may also be referred to as an agent, learns by interacting with its \n",
    "#       environment. The agent receives rewards by performing correctly and penalties for performing incorrectly. The agent\n",
    "#       learns without intervention from a human by maximizing its reward and minimizing its penalty."
   ]
  },
  {
   "cell_type": "markdown",
   "id": "ded13c71",
   "metadata": {},
   "source": [
    "# 5. Explain the term &quot;learning as a search&quot;?"
   ]
  },
  {
   "cell_type": "code",
   "execution_count": 6,
   "id": "f1c9b380",
   "metadata": {},
   "outputs": [],
   "source": [
    "# Ans : Learning can be viewed as a search through the space of all sentences in a concept description language for a \n",
    "#       sentence that best describes the data. Alternatively, it can be viewed as a search through all hypotheses \n",
    "#       in a hypothesis space."
   ]
  },
  {
   "cell_type": "markdown",
   "id": "c20678a5",
   "metadata": {},
   "source": [
    "# 6. What are the various goals of machine learning? What is the relationship between these and human learning?"
   ]
  },
  {
   "cell_type": "code",
   "execution_count": 7,
   "id": "747c0298",
   "metadata": {},
   "outputs": [],
   "source": [
    "# Ans : The goal of machine learning, closely coupled with the goal of AI, is to achieve a thorough understanding about the \n",
    "#       nature of learning process (both human learning and other forms of learning), about the computational aspects of \n",
    "#       learning behaviors, and to implant the learning capability in computer systems.\n",
    "#       Humans have the ability to learn, however with the progress in artificial intelligence, machine learning has become a\n",
    "#       resource which can augment or even replace human learning. Learning does not happen all at once, but it builds upon and\n",
    "#       is shaped by previous knowledge. "
   ]
  },
  {
   "cell_type": "markdown",
   "id": "70229a1c",
   "metadata": {},
   "source": [
    "# 7. Illustrate the various elements of machine learning using a real-life illustration."
   ]
  },
  {
   "cell_type": "code",
   "execution_count": 8,
   "id": "0fa433ce",
   "metadata": {},
   "outputs": [],
   "source": [
    "# Ans : The 6 elements of the the Machine Learning are: \n",
    "#       1) Data\n",
    "#       2) Task\n",
    "#       3) Model\n",
    "#       4) Loss Function\n",
    "#       5) Learning Algorithm\n",
    "#       6) Evaluation"
   ]
  },
  {
   "cell_type": "markdown",
   "id": "fa24a2eb",
   "metadata": {},
   "source": [
    "# 8. Provide an example of the abstraction method."
   ]
  },
  {
   "cell_type": "code",
   "execution_count": 9,
   "id": "9a00bc60",
   "metadata": {},
   "outputs": [],
   "source": [
    "# Ans : In ML, abstraction is supported primarily at the level of modules. This can be justified in two ways: first, data \n",
    "#       abstraction is mostly a question of program interfaces and therefore it arises naturally at the point where we have\n",
    "#       to consider program composition and modules."
   ]
  },
  {
   "cell_type": "markdown",
   "id": "3b76e72b",
   "metadata": {},
   "source": [
    "# 9. What is the concept of generalization? What function does it play in the machine learning process?"
   ]
  },
  {
   "cell_type": "code",
   "execution_count": 11,
   "id": "33d9e4ef",
   "metadata": {},
   "outputs": [],
   "source": [
    "# Ans : Generalization refers to your model's ability to adapt properly to new, previously unseen data, drawn from the same \n",
    "#       distribution as the one used to create the model.\n",
    "#       In machine learning, generalization is a definition to demonstrate how well is a trained model to classify or forecast \n",
    "#       unseen data.This issue can result to classify an actual dog image as a cat from the unseen dataset. Therefore, data \n",
    "#       diversity is very important factor in order to make a good prediction."
   ]
  },
  {
   "cell_type": "markdown",
   "id": "43583824",
   "metadata": {},
   "source": [
    "# 10.What is classification, exactly? What are the main distinctions between classification and regression?"
   ]
  },
  {
   "cell_type": "code",
   "execution_count": 12,
   "id": "13cfea46",
   "metadata": {},
   "outputs": [],
   "source": [
    "# Ans : In machine learning, classification refers to a predictive modeling problem where a class label is predicted \n",
    "#       for a given example of input data. \n",
    "#       Classification is the task of predicting a discrete class label. Regression is the task of predicting a\n",
    "#       continuous quantity."
   ]
  },
  {
   "cell_type": "markdown",
   "id": "81032e79",
   "metadata": {},
   "source": [
    "# 11. What is regression, and how does it work? Give an example of a real-world problem that was solved using regression."
   ]
  },
  {
   "cell_type": "code",
   "execution_count": 13,
   "id": "5c89a595",
   "metadata": {},
   "outputs": [],
   "source": [
    "# Ans : Regression is a supervised machine learning technique which is used to predict continuous values. The ultimate goal \n",
    "#       of the regression algorithm is to plot a best-fit line or a curve between the data. The three main metrics that are\n",
    "#       used for evaluating the trained regression model are variance, bias and error.\n",
    "#       A simple linear regression real life example could mean you finding a relationship between the revenue and temperature,\n",
    "#       with a sample size for revenue as the dependent variable. In case of multiple variable regression, you can find the\n",
    "#       relationship between temperature, pricing and number of workers to the revenue."
   ]
  },
  {
   "cell_type": "markdown",
   "id": "c8db601e",
   "metadata": {},
   "source": [
    "# 12. Describe the clustering mechanism in detail."
   ]
  },
  {
   "cell_type": "code",
   "execution_count": 14,
   "id": "455afada",
   "metadata": {},
   "outputs": [],
   "source": [
    "# Ans : Clustering is the task of dividing the population or data points into a number of groups such that data points in the\n",
    "#       same groups are more similar to other data points in the same group than those in other groups. In simple words, the \n",
    "#       aim is to segregate groups with similar traits and assign them into clusters."
   ]
  },
  {
   "cell_type": "markdown",
   "id": "d2bacad1",
   "metadata": {},
   "source": [
    "# 13. Make brief observations on two of the following topics:"
   ]
  },
  {
   "cell_type": "markdown",
   "id": "1a9afa07",
   "metadata": {},
   "source": [
    "# i. Machine learning algorithms are used"
   ]
  },
  {
   "cell_type": "code",
   "execution_count": 15,
   "id": "bc72a819",
   "metadata": {},
   "outputs": [],
   "source": [
    "# At its most basic, machine learning uses programmed algorithms that receive and analyse input data to predict output values\n",
    "# within an acceptable range. As new data is fed to these algorithms, they learn and optimise their operations to improve\n",
    "# performance, developing 'intelligence' over time."
   ]
  },
  {
   "cell_type": "markdown",
   "id": "c4d3964c",
   "metadata": {},
   "source": [
    "# ii. Studying under supervision"
   ]
  },
  {
   "cell_type": "code",
   "execution_count": 16,
   "id": "1fba8617",
   "metadata": {},
   "outputs": [],
   "source": [
    "# In machine learning, there are two important categories- Supervised and Unsupervised learning.Supervised learning, an \n",
    "# algorithm learns from a training dataset. We know the correct answers or desired output, the algorithm makes predictions \n",
    "# using the given dataset and is corrected by the “supervisor”."
   ]
  }
 ],
 "metadata": {
  "kernelspec": {
   "display_name": "Python 3 (ipykernel)",
   "language": "python",
   "name": "python3"
  },
  "language_info": {
   "codemirror_mode": {
    "name": "ipython",
    "version": 3
   },
   "file_extension": ".py",
   "mimetype": "text/x-python",
   "name": "python",
   "nbconvert_exporter": "python",
   "pygments_lexer": "ipython3",
   "version": "3.9.7"
  }
 },
 "nbformat": 4,
 "nbformat_minor": 5
}
