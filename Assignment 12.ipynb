{
 "cells": [
  {
   "cell_type": "markdown",
   "id": "08540fc0",
   "metadata": {},
   "source": [
    "# 1. What is prior probability? Give an example."
   ]
  },
  {
   "cell_type": "code",
   "execution_count": 1,
   "id": "bb8c2a4e",
   "metadata": {},
   "outputs": [],
   "source": [
    "# Ans : Prior probability shows the likelihood of an outcome in a given dataset. For example, in the mortgage case, P(Y) is \n",
    "#       the default rate on a home mortgage, which is 2%. P(Y|X) is called the conditional probability, which provides the \n",
    "#       probability of an outcome given the evidence, that is, when the value of X is known."
   ]
  },
  {
   "cell_type": "markdown",
   "id": "e126c365",
   "metadata": {},
   "source": [
    "# 2. What is posterior probability? Give an example."
   ]
  },
  {
   "cell_type": "code",
   "execution_count": 1,
   "id": "411a962f",
   "metadata": {},
   "outputs": [],
   "source": [
    "# Ans : Posterior probability is a revised probability that takes into account new available information. For example, let \n",
    "#       there be two urns, urn A having 5 black balls and 10 red balls and urn B having 10 black balls and 5 red balls."
   ]
  },
  {
   "cell_type": "markdown",
   "id": "9bd82a99",
   "metadata": {},
   "source": [
    "# 3. What is likelihood probability? Give an example."
   ]
  },
  {
   "cell_type": "code",
   "execution_count": 2,
   "id": "b66cf4af",
   "metadata": {},
   "outputs": [],
   "source": [
    "# Ans : Likelihood Function in Machine Learning and Data Science is the joint probability distribution(jpd) of the dataset\n",
    "#       given as a function of the parameter. Think of it as the probability of obtaining the observed data given the parameter\n",
    "#       values."
   ]
  },
  {
   "cell_type": "markdown",
   "id": "5fafd783",
   "metadata": {},
   "source": [
    "# 4. What is Naïve Bayes classifier? Why is it named so?"
   ]
  },
  {
   "cell_type": "code",
   "execution_count": 3,
   "id": "3cf2dfa3",
   "metadata": {},
   "outputs": [],
   "source": [
    "# Ans : Naive Bayes is a simple and powerful algorithm for predictive modeling. Naive Bayes is called naive because it\n",
    "#       assumes that each input variable is independent. This is a strong assumption and unrealistic for real data; however,\n",
    "#       the technique is very effective on a large range of complex problems."
   ]
  },
  {
   "cell_type": "markdown",
   "id": "1a5b4562",
   "metadata": {},
   "source": [
    "# 5. What is optimal Bayes classifier?"
   ]
  },
  {
   "cell_type": "code",
   "execution_count": 4,
   "id": "7541dd99",
   "metadata": {},
   "outputs": [],
   "source": [
    "# Ans : The Bayes Optimal Classifier is a probabilistic model that makes the most probable prediction for a new example.\n",
    "#       Bayes Optimal Classifier is a probabilistic model that finds the most probable prediction using the training data and\n",
    "#       space of hypotheses to make a prediction for a new data instance."
   ]
  },
  {
   "cell_type": "markdown",
   "id": "cc8ad8c6",
   "metadata": {},
   "source": [
    "# 6. Write any two features of Bayesian learning methods."
   ]
  },
  {
   "cell_type": "code",
   "execution_count": 5,
   "id": "ffed7853",
   "metadata": {},
   "outputs": [],
   "source": [
    "# Ans : A probability distribution over observed data for each possible hypothesis. New instances can be classified by \n",
    "#       combining the predictions of multiple hypotheses, weighted by their probabilities."
   ]
  },
  {
   "cell_type": "markdown",
   "id": "ed5e0f60",
   "metadata": {},
   "source": [
    "# 7. Define the concept of consistent learners."
   ]
  },
  {
   "cell_type": "code",
   "execution_count": 6,
   "id": "9ae48485",
   "metadata": {},
   "outputs": [],
   "source": [
    "# Ans : Consistent Learners. • A learner L using a hypothesis H and training data D is said to be a consistent learner if it \n",
    "#       always outputs a hypothesis with zero error on D whenever H contains such a hypothesis. • By definition, a consistent \n",
    "#       learner must produce a hypothesis in the version space for H given D. "
   ]
  },
  {
   "cell_type": "markdown",
   "id": "69f59dfd",
   "metadata": {},
   "source": [
    "# 8. Write any two strengths of Bayes classifier."
   ]
  },
  {
   "cell_type": "code",
   "execution_count": 7,
   "id": "d2238fd9",
   "metadata": {},
   "outputs": [],
   "source": [
    "# Ans : This algorithm works quickly and can save a lot of time. Naive Bayes is suitable for solving multi-class prediction\n",
    "#       problems. If its assumption of the independence of features holds true, it can perform better than other models and \n",
    "#       requires much less training data."
   ]
  },
  {
   "cell_type": "markdown",
   "id": "d124ad2a",
   "metadata": {},
   "source": [
    "# 9. Write any two weaknesses of Bayes classifier."
   ]
  },
  {
   "cell_type": "code",
   "execution_count": 8,
   "id": "3ed0423a",
   "metadata": {},
   "outputs": [],
   "source": [
    "# Ans : The greatest weakness of the naïve Bayes classifier is that it relies on an often-faulty assumption of equally\n",
    "#       important and independent features which results in biased posterior probabilities."
   ]
  },
  {
   "cell_type": "markdown",
   "id": "6b344197",
   "metadata": {},
   "source": [
    "# 10. Explain how Naïve Bayes classifier is used for"
   ]
  },
  {
   "cell_type": "code",
   "execution_count": 9,
   "id": "055c259c",
   "metadata": {},
   "outputs": [],
   "source": [
    "# Ans : The Naive Bayes classifier is a simple classifier that classifies based on probabilities of events. It is the applied \n",
    "#       commonly to text classification. With the training set, we can train a Naive Bayes classifier which we can use to\n",
    "#       automatically categorize a new sentence."
   ]
  },
  {
   "cell_type": "code",
   "execution_count": 10,
   "id": "aaf2a91f",
   "metadata": {},
   "outputs": [],
   "source": [
    "# Ans : Naive Bayes classifiers work by correlating the use of tokens (typically words, or sometimes other things), with spam \n",
    "#       and non-spam e-mails and then using Bayes' theorem to calculate a probability that an email is or is not spam. \n",
    "#       It is one of the oldest ways of doing spam filtering, with roots in the 1990s."
   ]
  },
  {
   "cell_type": "code",
   "execution_count": 11,
   "id": "703d2156",
   "metadata": {},
   "outputs": [],
   "source": [
    "# Ans : Market Sentiment analysis is a field dedicated to extracting subjective emotions and feelings from text. One common use\n",
    "#       of sentiment analysis is to figure out if a text expresses negative or positive feelings. Naive Bayes is a popular\n",
    "#       algorithm for classifying text."
   ]
  }
 ],
 "metadata": {
  "kernelspec": {
   "display_name": "Python 3 (ipykernel)",
   "language": "python",
   "name": "python3"
  },
  "language_info": {
   "codemirror_mode": {
    "name": "ipython",
    "version": 3
   },
   "file_extension": ".py",
   "mimetype": "text/x-python",
   "name": "python",
   "nbconvert_exporter": "python",
   "pygments_lexer": "ipython3",
   "version": "3.9.7"
  }
 },
 "nbformat": 4,
 "nbformat_minor": 5
}
