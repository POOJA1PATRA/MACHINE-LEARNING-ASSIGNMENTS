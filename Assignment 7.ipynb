{
 "cells": [
  {
   "cell_type": "markdown",
   "id": "77516974",
   "metadata": {},
   "source": [
    "# 1. What is the definition of a target function? In the sense of a real-life example, express the target function. How is a target function&#39;s fitness assessed?"
   ]
  },
  {
   "cell_type": "code",
   "execution_count": 1,
   "id": "fcab9a5e",
   "metadata": {},
   "outputs": [],
   "source": [
    "# Ans : A target function, in machine learning, is a method for solving a problem that an AI algorithm parses its training data\n",
    "#      to find.The target function is essentially the formula that an algorithm feeds data to in order to calculate predictions.\n",
    "#      Analyzing the massive amounts of data related to its given problem, an AI derives understanding of previously \n",
    "#      unspecified rules by detecting consistencies in the data. The observations of inherent rules about how the studied \n",
    "#      subject operates inform the AI on how to process future data that does not include an output by applying this previously\n",
    "#      unknown function."
   ]
  },
  {
   "cell_type": "markdown",
   "id": "1764484e",
   "metadata": {},
   "source": [
    "# 2. What are predictive models, and how do they work? What are descriptive types, and how do you use them? Examples of both types of models should be provided. Distinguish between these two forms of models."
   ]
  },
  {
   "cell_type": "code",
   "execution_count": 3,
   "id": "109ab007",
   "metadata": {},
   "outputs": [],
   "source": [
    "# Ans : In short, predictive modeling is a statistical technique using machine learning and data mining to predict and forecast\n",
    "#       likely future outcomes with the aid of historical and existing data. It works by analyzing current and historical data \n",
    "#       and projecting what it learns on a model generated to forecast likely outcomes.\n",
    "#       The three main types of descriptive studies are case studies, naturalistic observation, and surveys.\n",
    "#       Some examples of descriptive research are: A specialty food group launching a new range of barbecue rubs would like to \n",
    "#       understand what flavors of rubs are favored by different people.\n",
    "#       Case Studies are a type of observational research that involve a thorough descriptive analysis of a single individual,\n",
    "#       group, or event. There is no single way to conduct a case study so researchers use a range of methods from unstructured\n",
    "#       interviewing to direct observation."
   ]
  },
  {
   "cell_type": "markdown",
   "id": "2931a63e",
   "metadata": {},
   "source": [
    "# 3. Describe the method of assessing a classification model&#39;s efficiency in detail. Describe the various easurement parameters."
   ]
  },
  {
   "cell_type": "code",
   "execution_count": 4,
   "id": "7fd405e5",
   "metadata": {},
   "outputs": [],
   "source": [
    "# Ans : Logarithmic loss (or log loss) measures the performance of a classification model where the prediction is a probability\n",
    "#       value between 0 and 1. Log loss increases as the predicted probability diverge from the actual label. Log loss is a \n",
    "#       widely used metric for Kaggle competitions.\n",
    "#       Input on the most important basics for the measurement of the physical parameters: Temperature, flow velocity, \n",
    "#       humidity, pressure, CO2 and infrared. Tips on correct measurement and for avoiding measurement errors."
   ]
  },
  {
   "cell_type": "markdown",
   "id": "3502eb50",
   "metadata": {},
   "source": [
    "# 4. i. In the sense of machine learning models, what is underfitting? What is the most common reason for underfitting?\n",
    "# ii. What does it mean to overfit? When is it going to happen?\n",
    "# iii. In the sense of model fitting, explain the bias-variance trade-off."
   ]
  },
  {
   "cell_type": "code",
   "execution_count": 5,
   "id": "2ee62ee5",
   "metadata": {},
   "outputs": [],
   "source": [
    "# Ans : Underfitting is a scenario in data science where a data model is unable to capture the relationship between the input\n",
    "#       and output variables accurately, generating a high error rate on both the training set and unseen data."
   ]
  },
  {
   "cell_type": "markdown",
   "id": "8d76764d",
   "metadata": {},
   "source": [
    "# What does it mean to overfit?"
   ]
  },
  {
   "cell_type": "code",
   "execution_count": 6,
   "id": "f51bade3",
   "metadata": {},
   "outputs": [],
   "source": [
    "# Ans : Overfitting happens when a model learns the detail and noise in the training data to the extent that it negatively \n",
    "#       impacts the performance of the model on new data. This means that the noise or random fluctuations in the training data\n",
    "#       is picked up and learned as concepts by the model."
   ]
  },
  {
   "cell_type": "markdown",
   "id": "f86d08d0",
   "metadata": {},
   "source": [
    "# In the sense of model fitting, explain the bias-variance trade-off."
   ]
  },
  {
   "cell_type": "code",
   "execution_count": 7,
   "id": "1fef68ec",
   "metadata": {},
   "outputs": [],
   "source": [
    "# Ans : The bias is known as the difference between the prediction of the values by the ML model and the correct value.\n",
    "#       Being high in biasing gives a large error in training as well as testing data. By high bias, the data predicted is in \n",
    "#       a straight line format, thus not fitting accurately in the data in the data set."
   ]
  },
  {
   "cell_type": "markdown",
   "id": "d97b7529",
   "metadata": {},
   "source": [
    "# 5. Is it possible to boost the efficiency of a learning model? If so, please clarify how."
   ]
  },
  {
   "cell_type": "code",
   "execution_count": 8,
   "id": "d2306196",
   "metadata": {},
   "outputs": [],
   "source": [
    "# Ans : Building a machine learning model is not enough to get the right predictions, as you have to check the accuracy and\n",
    "#       need to validate the same to ensure get the precise results. And validating the model will improve the performance of\n",
    "#       the ML model."
   ]
  },
  {
   "cell_type": "markdown",
   "id": "8c325a93",
   "metadata": {},
   "source": [
    "# 6. How would you rate an unsupervised learning model&#39;s success? What are the most common success indicators for an unsupervised learning model?"
   ]
  },
  {
   "cell_type": "code",
   "execution_count": 9,
   "id": "bfa6f6b8",
   "metadata": {},
   "outputs": [],
   "source": [
    "# Ans : In case of supervised learning, it is mostly done by measuring the performance metrics such as accuracy, precision,\n",
    "#       recall, AUC, etc. on the training set and the holdout sets.\n",
    "#       Few examples of such measures are:\n",
    "#       Silhouette coefficient.\n",
    "#       Calisnki-Harabasz coefficient.\n",
    "#       Dunn index.\n",
    "#       Xie-Beni score.\n",
    "#       Hartigan index."
   ]
  },
  {
   "cell_type": "markdown",
   "id": "2364fb18",
   "metadata": {},
   "source": [
    "# 7. Is it possible to use a classification model for numerical data or a regression model for categorical data with a classification model? Explain your answer."
   ]
  },
  {
   "cell_type": "code",
   "execution_count": 10,
   "id": "6fc5d348",
   "metadata": {},
   "outputs": [],
   "source": [
    "# Ans : Categorical Data is the data that generally takes a limited number of possible values. Also, the data in the category \n",
    "#       need not be numerical, it can be textual in nature. All machine learning models are some kind of mathematical model\n",
    "#       that need numbers to work with. This is one of the primary reasons we need to pre-process the categorical data before\n",
    "#       we can feed it to machine learning models.\n",
    "#       If a categorical target variable needs to be encoded for a classification predictive modeling problem, then the \n",
    "#       LabelEncoder class can be used."
   ]
  },
  {
   "cell_type": "markdown",
   "id": "d7dc2a12",
   "metadata": {},
   "source": [
    "# 8. Describe the predictive modeling method for numerical values. What distinguishes it from categorical predictive modeling?"
   ]
  },
  {
   "cell_type": "code",
   "execution_count": 1,
   "id": "3a42c201",
   "metadata": {},
   "outputs": [],
   "source": [
    "# Ans : predictive modeling is a statistical technique using machine learning and data mining to predict and forecast likely \n",
    "#       future outcomes with the aid of historical and existing data. It works by analyzing current and historical data and \n",
    "#       projecting what it learns on a model generated to forecast likely outcomes.\n",
    "#       Classification is the process of identifying the category or class label of the new observation to which it belongs.\n",
    "#       Predication is the process of identifying the missing or unavailable numerical data for a new observation. That is the \n",
    "#       key difference between classification and prediction."
   ]
  },
  {
   "cell_type": "markdown",
   "id": "4ecd55d3",
   "metadata": {},
   "source": [
    "# 9. The following data were collected when using a classification model to predict the malignancy of a group of patients&#39; tumors: \n",
    "# i. Accurate estimates – 15 cancerous, 75 benign\n",
    "# ii. Wrong predictions – 3 cancerous, 7 benign\n",
    "# Determine the model&#39;s error rate, Kappa value, sensitivity, precision, and F-measure."
   ]
  },
  {
   "cell_type": "code",
   "execution_count": 1,
   "id": "b843a377",
   "metadata": {},
   "outputs": [],
   "source": [
    "# Ans : "
   ]
  },
  {
   "cell_type": "markdown",
   "id": "d476ab90",
   "metadata": {},
   "source": [
    "# 10. Make quick notes on any two :\n",
    "# 1. The process of holding out\n",
    "# 2. Cross-validation by tenfold\n",
    "# 3. Adjusting the parameters"
   ]
  },
  {
   "cell_type": "code",
   "execution_count": 3,
   "id": "25f59bfd",
   "metadata": {},
   "outputs": [],
   "source": [
    "# 1) The hold-out method for training machine learning model is the process of splitting the data in different splits and using \n",
    "#    one split for training the model and other splits for validating and testing the models. The hold-out method is used for \n",
    "#    both model evaluation and model selection.\n",
    "# 2) 10-fold cross validation would perform the fitting procedure a total of ten times, with each fit being performed on a \n",
    "#    training set consisting of 90% of the total training set selected at random, with the remaining 10% used as a hold out\n",
    "#    set for validation."
   ]
  }
 ],
 "metadata": {
  "kernelspec": {
   "display_name": "Python 3 (ipykernel)",
   "language": "python",
   "name": "python3"
  },
  "language_info": {
   "codemirror_mode": {
    "name": "ipython",
    "version": 3
   },
   "file_extension": ".py",
   "mimetype": "text/x-python",
   "name": "python",
   "nbconvert_exporter": "python",
   "pygments_lexer": "ipython3",
   "version": "3.9.7"
  }
 },
 "nbformat": 4,
 "nbformat_minor": 5
}
