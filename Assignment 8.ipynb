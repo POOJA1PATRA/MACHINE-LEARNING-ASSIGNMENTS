{
 "cells": [
  {
   "cell_type": "markdown",
   "id": "b4b3300f",
   "metadata": {},
   "source": [
    "# 1. What exactly is a feature? Give an example to illustrate your point."
   ]
  },
  {
   "cell_type": "code",
   "execution_count": 1,
   "id": "a03013cc",
   "metadata": {},
   "outputs": [],
   "source": [
    "# Ans : Features are the basic building blocks of datasets. The quality of the features in your dataset has a major impact on \n",
    "#       the quality of the insights you will gain when you use that dataset for machine learning. Additionally, different \n",
    "#       business problems within the same industry do not necessarily require the same features, which is why it is important\n",
    "#       to have a strong understanding of the business goals of your data science project."
   ]
  },
  {
   "cell_type": "markdown",
   "id": "0562a274",
   "metadata": {},
   "source": [
    "# 2. What are the various circumstances in which feature construction is required?"
   ]
  },
  {
   "cell_type": "code",
   "execution_count": 2,
   "id": "3d7d46af",
   "metadata": {},
   "outputs": [],
   "source": [
    "# Ans : The features in your data will directly influence the predictive models you use and the results you can achieve.\n",
    "#       Your results are dependent on many inter-dependent properties. You need great features that describe the structures\n",
    "#      inherent in your data. Better features means flexibility."
   ]
  },
  {
   "cell_type": "markdown",
   "id": "17060f44",
   "metadata": {},
   "source": [
    "# 3. Describe how nominal variables are encoded."
   ]
  },
  {
   "cell_type": "code",
   "execution_count": 3,
   "id": "00af53b2",
   "metadata": {},
   "outputs": [],
   "source": [
    "# Ans : Nominal. Nominal data is made of discrete values with no numerical relationship between the different categories — \n",
    "#       mean and median are meaningless. Animal species is one example. For example, pig is not higher than bird and lower \n",
    "#       than fish."
   ]
  },
  {
   "cell_type": "markdown",
   "id": "dc4ab893",
   "metadata": {},
   "source": [
    "# 4. Describe how numeric features are converted to categorical features."
   ]
  },
  {
   "cell_type": "code",
   "execution_count": 4,
   "id": "ea1a23b3",
   "metadata": {},
   "outputs": [],
   "source": [
    "# Ans : Converting categorical features into numeric features using domain knowledge. For example, we are given a list of\n",
    "#       countries and say we know the distance to these countries from India then we can replace it with distance from India.\n",
    "#       So, every country can be represented as its distance from India."
   ]
  },
  {
   "cell_type": "markdown",
   "id": "4e510103",
   "metadata": {},
   "source": [
    "# 5. Describe the feature selection wrapper approach. State the advantages and disadvantages of this approach?"
   ]
  },
  {
   "cell_type": "code",
   "execution_count": 5,
   "id": "25252ed2",
   "metadata": {},
   "outputs": [],
   "source": [
    "# Ans : Wrapper methods measure the “usefulness” of features based on the classifier performance. In contrast, the filter \n",
    "#       methods pick up the intrinsic properties of the features (i.e., the “relevance” of the features) measured via\n",
    "#       univariate statistics instead of cross-validation performance.\n",
    "#       The wrapper classification algorithms with joint dimensionality reduction and classification can also be used but these\n",
    "#       methods have high computation cost, lower discriminative power. Moreover, these methods depend on the efficient \n",
    "#       selection of classifiers for obtaining high accuracy"
   ]
  },
  {
   "cell_type": "markdown",
   "id": "866c7690",
   "metadata": {},
   "source": [
    "# 6. When is a feature considered irrelevant? What can be said to quantify it?"
   ]
  },
  {
   "cell_type": "code",
   "execution_count": 6,
   "id": "72abe48a",
   "metadata": {},
   "outputs": [],
   "source": [
    "# Ans : Features are rele- vant if they are either strongly or weakly relevant, and. are irrelevant otherwise. Irrelevant\n",
    "#       features can never contribute to prediction accuracy, by definition.\n",
    "#       Also to quantify it we need to first check the list of features :\n",
    "#       There are three types of feature selection: Wrapper methods (forward, backward, and stepwise selection), Filter methods\n",
    "#       (ANOVA, Pearson correlation, variance thresholding), and Embedded methods (Lasso, Ridge, Decision Tree)."
   ]
  },
  {
   "cell_type": "markdown",
   "id": "fa8122de",
   "metadata": {},
   "source": [
    "# 7. When is a function considered redundant? What criteria are used to identify features that could be redundant?"
   ]
  },
  {
   "cell_type": "code",
   "execution_count": 7,
   "id": "1e92a9d8",
   "metadata": {},
   "outputs": [],
   "source": [
    "# Ans : If two features {X1, X2} are highly correlated, then the two features become redundant features since they have same\n",
    "#       information in terms of correlation measure. In other words, the correlation measure provides statistical association\n",
    "#       between any given a pair of features.\n",
    "#       Minimum redundancy feature selection is an algorithm frequently used in a method to accurately identify characteristics\n",
    "#       of genes and phenotypes"
   ]
  },
  {
   "cell_type": "markdown",
   "id": "abe9fdf6",
   "metadata": {},
   "source": [
    "# 8. What are the various distance measurements used to determine feature similarity?"
   ]
  },
  {
   "cell_type": "code",
   "execution_count": 8,
   "id": "4a213bf5",
   "metadata": {},
   "outputs": [],
   "source": [
    "# Ans : Four of the most commonly used distance measures in machine learning are as follows: Hamming Distance. \n",
    "#       Euclidean Distance. Manhattan Distance."
   ]
  },
  {
   "cell_type": "markdown",
   "id": "00ae1e98",
   "metadata": {},
   "source": [
    "# 9. State difference between Euclidean and Manhattan distances?"
   ]
  },
  {
   "cell_type": "code",
   "execution_count": 9,
   "id": "0789a87c",
   "metadata": {},
   "outputs": [],
   "source": [
    "# Ans : Key focus: Euclidean & Hamming distances are used to measure similarity or dissimilarity between two sequences.\n",
    "#       Euclidean distance is extensively applied in analysis of convolutional codes and Trellis codes. Hamming distance\n",
    "#       is frequently encountered in the analysis of block codes."
   ]
  },
  {
   "cell_type": "markdown",
   "id": "232dcbb2",
   "metadata": {},
   "source": [
    "# 10. Distinguish between feature transformation and feature selection."
   ]
  },
  {
   "cell_type": "code",
   "execution_count": 10,
   "id": "0f8c72c4",
   "metadata": {},
   "outputs": [],
   "source": [
    "# Ans : Feature selection is for filtering irrelevant or redundant features from your dataset. The key difference between \n",
    "#       feature selection and extraction is that feature selection keeps a subset of the original features while feature \n",
    "#       extraction creates brand new ones."
   ]
  }
 ],
 "metadata": {
  "kernelspec": {
   "display_name": "Python 3 (ipykernel)",
   "language": "python",
   "name": "python3"
  },
  "language_info": {
   "codemirror_mode": {
    "name": "ipython",
    "version": 3
   },
   "file_extension": ".py",
   "mimetype": "text/x-python",
   "name": "python",
   "nbconvert_exporter": "python",
   "pygments_lexer": "ipython3",
   "version": "3.9.7"
  }
 },
 "nbformat": 4,
 "nbformat_minor": 5
}
