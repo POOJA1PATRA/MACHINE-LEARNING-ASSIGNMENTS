{
 "cells": [
  {
   "cell_type": "markdown",
   "id": "55aed75c",
   "metadata": {},
   "source": [
    "#   1. What does one mean by the term &quot;machine learning&quot;?"
   ]
  },
  {
   "cell_type": "code",
   "execution_count": 1,
   "id": "83b340b7",
   "metadata": {},
   "outputs": [],
   "source": [
    "# Ans : Machine learning (ML) is a type of artificial intelligence (AI) that allows software applications to become more\n",
    "#       accurate at predicting outcomes without being explicitly programmed to do so. Machine learning algorithms use\n",
    "#       historical data as input to predict new output values."
   ]
  },
  {
   "cell_type": "markdown",
   "id": "0cdfced6",
   "metadata": {},
   "source": [
    "# 2.Can you think of 4 distinct types of issues where it shines?"
   ]
  },
  {
   "cell_type": "code",
   "execution_count": 1,
   "id": "3d75c7e7",
   "metadata": {},
   "outputs": [],
   "source": [
    "# Ans : 1. Image Recognition: Image recognition is one of the most common applications of machine learning. It is used to \n",
    "#       identify objects, persons, places, digital images, etc. The popular use case of image recognition and face detection\n",
    "#       is, Automatic friend tagging suggestion:\n",
    "#       2. Speech Recognition: While using Google, we get an option of \"Search by voice,\" it comes under speech recognition,\n",
    "#       and it's a popular application of machine learning. Speech recognition is a process of converting voice instructions \n",
    "#       into text, and it is also known as \"Speech to text\", or \"Computer speech recognition.\" At present, machine learning \n",
    "#       algorithms are widely used by various applications of speech recognition. Google assistant, Siri, Cortana, and \n",
    "#       Alexa are using speech recognition technology to follow the voice instructions.\n",
    "#       3. Traffic prediction: It predicts the traffic conditions such as whether traffic is cleared, slow-moving, or heavily \n",
    "#       congested with the help of two ways: Real Time location of the vehicle form Google Map app and sensors , \n",
    "#       Average time has taken on past days at the same time.\n",
    "#       4. Product recommendations: Machine learning is widely used by various e-commerce and entertainment companies such as\n",
    "#       Amazon, Netflix, etc., for product recommendation to the user."
   ]
  },
  {
   "cell_type": "markdown",
   "id": "582881e3",
   "metadata": {},
   "source": [
    "# 3.What is a labeled training set, and how does it work?"
   ]
  },
  {
   "cell_type": "code",
   "execution_count": 2,
   "id": "68dccf01",
   "metadata": {},
   "outputs": [],
   "source": [
    "# Ans : You split up the data containing known response variable values into two pieces. The training set is used to train the \n",
    "#       algorithm, and then you use the trained model on the test set to predict the response variable values that are already \n",
    "#       known."
   ]
  },
  {
   "cell_type": "markdown",
   "id": "c7371131",
   "metadata": {},
   "source": [
    "# 4.What are the two most important tasks that are supervised?"
   ]
  },
  {
   "cell_type": "code",
   "execution_count": 3,
   "id": "4060ad93",
   "metadata": {},
   "outputs": [],
   "source": [
    "# Ans : The two most common supervised learning tasks are regression and classification."
   ]
  },
  {
   "cell_type": "markdown",
   "id": "979c323d",
   "metadata": {},
   "source": [
    "# 5.Can you think of four examples of unsupervised tasks?"
   ]
  },
  {
   "cell_type": "code",
   "execution_count": 4,
   "id": "593ed454",
   "metadata": {},
   "outputs": [],
   "source": [
    "# Ans : Four common unsupervised tasks inclused clustering, visualization, dimensionality reduction , and association \n",
    "#       rule learning."
   ]
  },
  {
   "cell_type": "markdown",
   "id": "2143c453",
   "metadata": {},
   "source": [
    "# 6.State the machine learning model that would be best to make a robot walk through various unfamiliar terrains?"
   ]
  },
  {
   "cell_type": "code",
   "execution_count": 5,
   "id": "60d70ff9",
   "metadata": {},
   "outputs": [],
   "source": [
    "# Ans : The best Machine Learning algorithm to allow a robot to walk in unknown terrain is Reinforced Learning, where the \n",
    "#       robot can learn from response of the terrain to optimize itself."
   ]
  },
  {
   "cell_type": "markdown",
   "id": "1ccd65ab",
   "metadata": {},
   "source": [
    "# 7.Which algorithm will you use to divide your customers into different groups?"
   ]
  },
  {
   "cell_type": "code",
   "execution_count": 6,
   "id": "691c1166",
   "metadata": {},
   "outputs": [],
   "source": [
    "# Ans : The best algorithm to segment customers into multiple groups is either supervised learning (if the groups have \n",
    "#       known labels) or unsupervised learning (if there are no group labels)."
   ]
  },
  {
   "cell_type": "markdown",
   "id": "40c36a4e",
   "metadata": {},
   "source": [
    "# 8.Will you consider the problem of spam detection to be a supervised or unsupervised learning problem?"
   ]
  },
  {
   "cell_type": "code",
   "execution_count": 7,
   "id": "1cf49caf",
   "metadata": {},
   "outputs": [],
   "source": [
    "# Ans : Spam detection is a supervised learning problem because the labels are known (spam or no spam)."
   ]
  },
  {
   "cell_type": "markdown",
   "id": "6422bd60",
   "metadata": {},
   "source": [
    "# 9.What is the concept of an online learning system?"
   ]
  },
  {
   "cell_type": "code",
   "execution_count": 8,
   "id": "8d773c9e",
   "metadata": {},
   "outputs": [],
   "source": [
    "# Ans : Online learning system is a learning system in which the machine learns as data is given in small streams continuously."
   ]
  },
  {
   "cell_type": "markdown",
   "id": "d030bca1",
   "metadata": {},
   "source": [
    "# 10.What is out-of-core learning, and how does it differ from core learning?"
   ]
  },
  {
   "cell_type": "code",
   "execution_count": 9,
   "id": "64e8c915",
   "metadata": {},
   "outputs": [],
   "source": [
    "# Ans : Out-of-core learning system is a system that can handle data that cannot fit into your computer memory. It uses \n",
    "#       online learning system to feed data in small bits."
   ]
  },
  {
   "cell_type": "markdown",
   "id": "fa6b3bd3",
   "metadata": {},
   "source": [
    "# 11.What kind of learning algorithm makes predictions using a similarity measure?"
   ]
  },
  {
   "cell_type": "code",
   "execution_count": 10,
   "id": "ed0516f0",
   "metadata": {},
   "outputs": [],
   "source": [
    "# Ans : Learning algorithm that relies on a similarity measure to make predictions is instance-based algorithm."
   ]
  },
  {
   "cell_type": "markdown",
   "id": "cd27d109",
   "metadata": {},
   "source": [
    "# 12.What&#39;s the difference between a model parameter and a hyperparameter in a learning algorithm?"
   ]
  },
  {
   "cell_type": "code",
   "execution_count": 11,
   "id": "17967e9a",
   "metadata": {},
   "outputs": [],
   "source": [
    "# Ans : Model parameter determines how a model will predict given a new instance; model usually has more than one parameter \n",
    "#      (i.e. slope of a linear model). Hyperparameter is a parameter for the learning algorithm, not of a model."
   ]
  },
  {
   "cell_type": "markdown",
   "id": "f3be93f3",
   "metadata": {},
   "source": [
    "# 13.What are the criteria that model-based learning algorithms look for? What is the most popular method they use to achieve success? What method do they use to make predictions?"
   ]
  },
  {
   "cell_type": "code",
   "execution_count": 12,
   "id": "af5e5c9e",
   "metadata": {},
   "outputs": [],
   "source": [
    "# Ans : Model based learning algorithm search for the optimal value of parameters in a model that will give the best results\n",
    "#       for the new instances. We often use a cost function or similar to determine what the parameter value has to be in order\n",
    "#       to minimize the function. The model makes prediction by using the value of the new instance and the parameters in its\n",
    "#       function."
   ]
  },
  {
   "cell_type": "markdown",
   "id": "303dcc14",
   "metadata": {},
   "source": [
    "# 14.Can you name four of the most important Machine Learning challenges?"
   ]
  },
  {
   "cell_type": "code",
   "execution_count": 13,
   "id": "dad3329b",
   "metadata": {},
   "outputs": [],
   "source": [
    "# Ans : Four main challenges in Machine Learning include overfitting the data (using a model too complicated), underfitting the\n",
    "#       data (using a simple model), lacking in data and nonrepresentative data."
   ]
  },
  {
   "cell_type": "markdown",
   "id": "9bb13ec9",
   "metadata": {},
   "source": [
    "# 15.What happens if the model performs well on the training data but fails to generalize the results to new situations? Can you think of three different options?"
   ]
  },
  {
   "cell_type": "code",
   "execution_count": 14,
   "id": "7902755e",
   "metadata": {},
   "outputs": [],
   "source": [
    "# Ans : If the model performs poorly to new instances, then it has overfit on the training data. To solve this, we can do any \n",
    "#       of the following three: get more data, implement a simpler model, or eliminate outliers or noise from the existing \n",
    "#       data set."
   ]
  },
  {
   "cell_type": "markdown",
   "id": "5ae68088",
   "metadata": {},
   "source": [
    "# 16.What exactly is a test set, and why would you need one?"
   ]
  },
  {
   "cell_type": "code",
   "execution_count": 15,
   "id": "19b97afb",
   "metadata": {},
   "outputs": [],
   "source": [
    "# Ans : Test set is a set that you test your model (fit using training data) to see how it performs. Test set is necessary so\n",
    "#       that you can determine how good (or bad) your model performs."
   ]
  },
  {
   "cell_type": "markdown",
   "id": "ce303151",
   "metadata": {},
   "source": [
    "# 17.What is a validation set&#39;s purpose?"
   ]
  },
  {
   "cell_type": "code",
   "execution_count": 16,
   "id": "358f50ec",
   "metadata": {},
   "outputs": [],
   "source": [
    "# Ans : Validation set is a set used to compare between different training models."
   ]
  },
  {
   "cell_type": "markdown",
   "id": "05a3ef18",
   "metadata": {},
   "source": [
    "# 18.What precisely is the train-dev kit, when will you need it, how do you put it to use?"
   ]
  },
  {
   "cell_type": "code",
   "execution_count": 17,
   "id": "261347a8",
   "metadata": {},
   "outputs": [],
   "source": [
    "# Ans : Cross-validation is a tool to compare models without needing a separate validation set. It is preferred over validation\n",
    "#       set because we can save from breaking of part of the training set to create a validation set, as having more data \n",
    "#       is valuable regardless."
   ]
  },
  {
   "cell_type": "markdown",
   "id": "23cec19d",
   "metadata": {},
   "source": [
    "# 19.What could go wrong if you use the test set to tune hyperparameters?"
   ]
  },
  {
   "cell_type": "code",
   "execution_count": null,
   "id": "5787aebb",
   "metadata": {},
   "outputs": [],
   "source": [
    "# Ans : If you tune hyperparameters using the test sets, then it may not perform well on the out-of-sample data because the \n",
    "#       model is tuned just for that specific set."
   ]
  }
 ],
 "metadata": {
  "kernelspec": {
   "display_name": "Python 3",
   "language": "python",
   "name": "python3"
  },
  "language_info": {
   "codemirror_mode": {
    "name": "ipython",
    "version": 3
   },
   "file_extension": ".py",
   "mimetype": "text/x-python",
   "name": "python",
   "nbconvert_exporter": "python",
   "pygments_lexer": "ipython3",
   "version": "3.8.8"
  }
 },
 "nbformat": 4,
 "nbformat_minor": 5
}
