{
 "cells": [
  {
   "cell_type": "markdown",
   "id": "01d5b59f",
   "metadata": {},
   "source": [
    "# 1. What is feature engineering, and how does it work? Explain the various aspects of feature engineering in depth."
   ]
  },
  {
   "cell_type": "code",
   "execution_count": 1,
   "id": "0e76e67d",
   "metadata": {},
   "outputs": [],
   "source": [
    "# Ans : Feature engineering is the process of selecting, manipulating, and transforming raw data into features that can be \n",
    "#       used in supervised learning. In order to make machine learning work well on new tasks, it might be necessary to design \n",
    "#       and train better features.\n",
    "#       Feature engineering in ML consists of four main steps: Feature Creation, Transformations, Feature Extraction, and \n",
    "#       Feature Selection. Feature engineering consists of creation, transformation, extraction, and selection of features,\n",
    "#       also known as variables, that are most conducive to creating an accurate ML algorithm."
   ]
  },
  {
   "cell_type": "markdown",
   "id": "e3eef43b",
   "metadata": {},
   "source": [
    "# 2. What is feature selection, and how does it work? What is the aim of it? What are the various methods of function selection?"
   ]
  },
  {
   "cell_type": "code",
   "execution_count": 4,
   "id": "d490426a",
   "metadata": {},
   "outputs": [],
   "source": [
    "# Ans : Feature Selection is the process where you automatically or manually select those features which contribute most to \n",
    "#       your prediction variable or output in which you are interested in. Having irrelevant features in your data can decrease\n",
    "#       the accuracy of the models and make your model learn based on irrelevant features.\n",
    "#       There are three types of feature selection: Wrapper methods (forward, backward, and stepwise selection), Filter methods\n",
    "#       (ANOVA, Pearson correlation, variance thresholding), and Embedded methods (Lasso, Ridge, Decision Tree)."
   ]
  },
  {
   "cell_type": "markdown",
   "id": "eaa5444f",
   "metadata": {},
   "source": [
    "# 3. Describe the function selection filter and wrapper approaches. State the pros and cons of each approach?"
   ]
  },
  {
   "cell_type": "code",
   "execution_count": 5,
   "id": "d24c8349",
   "metadata": {},
   "outputs": [],
   "source": [
    "# Ans : The main differences between the filter and wrapper methods for feature selection are: Filter methods measure the \n",
    "#       relevance of features by their correlation with dependent variable while wrapper methods measure the usefulness of a \n",
    "#       subset of feature by actually training a model on it.\n",
    "#       The filter method has the fastest running time; however, it does not consider feature dependencies and tends to each\n",
    "#       feature separately when univariate techniques are used. The wrapper method has the advantages of better \n",
    "#       generalization and robust interaction with the classifier used for feature selection"
   ]
  },
  {
   "cell_type": "markdown",
   "id": "91ac5344",
   "metadata": {},
   "source": [
    "# 4. Describe the overall feature selection process."
   ]
  },
  {
   "cell_type": "code",
   "execution_count": 6,
   "id": "899f5d16",
   "metadata": {},
   "outputs": [],
   "source": [
    "# Ans : Feature selection is the process of reducing the number of input variables when developing a predictive model. It is\n",
    "#       desirable to reduce the number of input variables to both reduce the computational cost of modeling and, in some cases,\n",
    "#       to improve the performance of the model."
   ]
  },
  {
   "cell_type": "markdown",
   "id": "849b9806",
   "metadata": {},
   "source": [
    "# 5. Describe the feature engineering process in the sense of a text categorization issue."
   ]
  },
  {
   "cell_type": "code",
   "execution_count": 1,
   "id": "68b92188",
   "metadata": {},
   "outputs": [],
   "source": [
    "# Ans : Text classification is the problem of assigning categories to text data according to its content. The most important\n",
    "#       part of text classification is feature engineering: the process of creating features for a machine learning model from \n",
    "#       raw text data."
   ]
  },
  {
   "cell_type": "markdown",
   "id": "e1ad9cc0",
   "metadata": {},
   "source": [
    "# 6. What makes cosine similarity a good metric for text categorization? A document-term matrix has two rows with values of (2, 3, 2, 0, 2, 3, 3, 0, 1) and (2, 1, 0, 0, 3, 2, 1, 3, 1). Find the resemblance in cosine."
   ]
  },
  {
   "cell_type": "code",
   "execution_count": 2,
   "id": "5f9c9461",
   "metadata": {},
   "outputs": [],
   "source": [
    "# Ans : Cosine similarity is a metric used to measure how similar the documents are irrespective of their size.\n",
    "#       The cosine similarity is advantageous because even if the two similar documents are far apart by the Euclidean distance\n",
    "#       (due to the size of the document), chances are they may still be oriented closer together.\n",
    "#       Cosine similarity is the cosine of the angle between two n-dimensional vectors in an n-dimensional space. It is the \n",
    "#       dot product of the two vectors divided by the product of the two vectors' lengths (or magnitudes)."
   ]
  },
  {
   "cell_type": "markdown",
   "id": "28aebe8f",
   "metadata": {},
   "source": [
    "# 7. What is the formula for calculating Hamming distance? Between 10001011 and 11001111, calculate the Hamming gap."
   ]
  },
  {
   "cell_type": "code",
   "execution_count": 3,
   "id": "5822e3a9",
   "metadata": {},
   "outputs": [],
   "source": [
    "# Ans : Thus the Hamming distance between two vectors is the number of bits we must change to change one into the other. \n",
    "#       Example Find the distance between the vectors 01101010 and 11011011. They differ in four places, so the \n",
    "#       Hamming distance d(01101010,11011011) = 4."
   ]
  },
  {
   "cell_type": "markdown",
   "id": "0c3189bb",
   "metadata": {},
   "source": [
    "# 8. State what is meant by &quot;high-dimensional data set&quot;? Could you offer a few real-life examples? What are the difficulties in using machine learning techniques on a data set with many dimensions? What can be done about it?"
   ]
  },
  {
   "cell_type": "code",
   "execution_count": 4,
   "id": "48548bc2",
   "metadata": {},
   "outputs": [],
   "source": [
    "# Ans : High dimension is when variable numbers p is higher than the sample sizes n i.e. p>n, cases.\n",
    "#       High dimensional data is referred to a data of n samples with p features, where p is larger than n.\n",
    "#       For example, tomographic imaging data, ECG data, and MEG data. One example of high dimensional data \n",
    "#       is microarray gene expression data."
   ]
  },
  {
   "cell_type": "markdown",
   "id": "c262a968",
   "metadata": {},
   "source": [
    "# 9. Make a few quick notes on: PCA is an acronym for Principal Component Analysis."
   ]
  },
  {
   "cell_type": "code",
   "execution_count": 7,
   "id": "cb79583a",
   "metadata": {},
   "outputs": [],
   "source": [
    "# Ans : The Principal component analysis (PCA) is a technique used for identification of a smaller number of uncorrelated \n",
    "#       variables known as principal components from a larger set of data. The technique is widely used to emphasize variation \n",
    "#       and capture strong patterns in a data set."
   ]
  },
  {
   "cell_type": "markdown",
   "id": "3f7af73c",
   "metadata": {},
   "source": [
    "# 10. Make a comparison between:  \n",
    "# 1. Sequential backward exclusion vs. sequential forward selection"
   ]
  },
  {
   "cell_type": "code",
   "execution_count": 9,
   "id": "6c545333",
   "metadata": {},
   "outputs": [],
   "source": [
    "# Ans : Sequential floating forward selection (SFFS) starts from the empty set. After each forward step, SFFS performs backward\n",
    "#       steps as long as the objective function increases. Sequential floating backward selection (SFBS) starts from the full\n",
    "#       set."
   ]
  }
 ],
 "metadata": {
  "kernelspec": {
   "display_name": "Python 3 (ipykernel)",
   "language": "python",
   "name": "python3"
  },
  "language_info": {
   "codemirror_mode": {
    "name": "ipython",
    "version": 3
   },
   "file_extension": ".py",
   "mimetype": "text/x-python",
   "name": "python",
   "nbconvert_exporter": "python",
   "pygments_lexer": "ipython3",
   "version": "3.9.7"
  }
 },
 "nbformat": 4,
 "nbformat_minor": 5
}
