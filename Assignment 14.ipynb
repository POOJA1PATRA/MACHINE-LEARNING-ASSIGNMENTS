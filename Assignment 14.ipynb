{
 "cells": [
  {
   "cell_type": "markdown",
   "id": "a7bf9d48",
   "metadata": {},
   "source": [
    "# 1. What is the concept of supervised learning? What is the significance of the name?"
   ]
  },
  {
   "cell_type": "code",
   "execution_count": 1,
   "id": "770da960",
   "metadata": {},
   "outputs": [],
   "source": [
    "# Ans : Supervised learning, also known as supervised machine learning, is a subcategory of machine learning and artificial\n",
    "#       intelligence. It is defined by its use of labeled datasets to train algorithms that to classify data or predict \n",
    "#       outcomes accurately. "
   ]
  },
  {
   "cell_type": "markdown",
   "id": "fb3137ef",
   "metadata": {},
   "source": [
    "# 2. In the hospital sector, offer an example of supervised learning."
   ]
  },
  {
   "cell_type": "code",
   "execution_count": 2,
   "id": "204bfb29",
   "metadata": {},
   "outputs": [],
   "source": [
    "# Ans : Supervised learning uses a training set to teach models to yield the desired output. This training dataset includes \n",
    "#       inputs and correct outputs, which allow the model to learn over time. The algorithm measures its accuracy through the\n",
    "#       loss function, adjusting until the error has been sufficiently minimized."
   ]
  },
  {
   "cell_type": "markdown",
   "id": "db19c59b",
   "metadata": {},
   "source": [
    "# 3. Give three supervised learning examples."
   ]
  },
  {
   "cell_type": "code",
   "execution_count": 1,
   "id": "022f4ad5",
   "metadata": {},
   "outputs": [],
   "source": [
    "# Ans : Example of Supervised Learning Algorithms:\n",
    "#       Linear Regression.\n",
    "#       Nearest Neighbor.\n",
    "#       Gaussian Naive Bayes.\n",
    "#       Decision Trees.\n",
    "#       Support Vector Machine (SVM)\n",
    "#       Random Forest."
   ]
  },
  {
   "cell_type": "markdown",
   "id": "241c299d",
   "metadata": {},
   "source": [
    "# 4. In supervised learning, what are classification and regression?"
   ]
  },
  {
   "cell_type": "code",
   "execution_count": 2,
   "id": "d0ded180",
   "metadata": {},
   "outputs": [],
   "source": [
    "# Ans : Fundamentally, classification is about predicting a label and regression is about predicting a quantity.\n",
    "#       That classification is the problem of predicting a discrete class label output for an example. That regression is the \n",
    "#       problem of predicting a continuous quantity output for an example."
   ]
  },
  {
   "cell_type": "markdown",
   "id": "986ffbb8",
   "metadata": {},
   "source": [
    "# 5. Give some popular classification algorithms as examples."
   ]
  },
  {
   "cell_type": "code",
   "execution_count": 3,
   "id": "7f236f4e",
   "metadata": {},
   "outputs": [],
   "source": [
    "# Ans : Popular algorithms that can be used for multi-class classification include: k-Nearest Neighbors. Decision Trees.\n",
    "#       Naive Bayes"
   ]
  },
  {
   "cell_type": "markdown",
   "id": "c20013e0",
   "metadata": {},
   "source": [
    "# 6. Briefly describe the SVM model."
   ]
  },
  {
   "cell_type": "code",
   "execution_count": 4,
   "id": "39a791fc",
   "metadata": {},
   "outputs": [],
   "source": [
    "# Ans : A support vector machine (SVM) is a supervised machine learning model that uses classification algorithms for two-group\n",
    "#       classification problems. After giving an SVM model sets of labeled training data for each category, they're able to \n",
    "#       categorize new text."
   ]
  },
  {
   "cell_type": "markdown",
   "id": "15f00472",
   "metadata": {},
   "source": [
    "# 7. In SVM, what is the cost of misclassification?"
   ]
  },
  {
   "cell_type": "code",
   "execution_count": 5,
   "id": "9e7548ef",
   "metadata": {},
   "outputs": [],
   "source": [
    "# Ans : In cost-sensitive learning instead of each instance being either correctly or incorrectly classified, each class \n",
    "#       (or instance) is given a misclassification cost. Thus, instead of trying to optimize the accuracy, the problem is then\n",
    "#       to minimize the total misclassification cost."
   ]
  },
  {
   "cell_type": "markdown",
   "id": "9f0ffb16",
   "metadata": {},
   "source": [
    "# 8. In the SVM model, define Support Vectors."
   ]
  },
  {
   "cell_type": "code",
   "execution_count": 6,
   "id": "0bd1dd6d",
   "metadata": {},
   "outputs": [],
   "source": [
    "# Ans : Support vectors are data points that are closer to the hyperplane and influence the position and orientation of the \n",
    "#       hyperplane. Using these support vectors, we maximize the margin of the classifier. Deleting the support vectors will \n",
    "#       change the position of the hyperplane. These are the points that help us build our SVM."
   ]
  },
  {
   "cell_type": "markdown",
   "id": "d3a332d4",
   "metadata": {},
   "source": [
    "# 9. In the SVM model, define the kernel."
   ]
  },
  {
   "cell_type": "code",
   "execution_count": 7,
   "id": "4e055558",
   "metadata": {},
   "outputs": [],
   "source": [
    "# Ans : SVM algorithms use a set of mathematical functions that are defined as the kernel. The function of kernel is to take\n",
    "#       data as input and transform it into the required form. These functions can be different types. For example linear, \n",
    "#       nonlinear, polynomial, radial basis function (RBF), and sigmoid."
   ]
  },
  {
   "cell_type": "markdown",
   "id": "7cfa78b1",
   "metadata": {},
   "source": [
    "# 10. What are the factors that influence SVM&#39;s effectiveness?"
   ]
  },
  {
   "cell_type": "code",
   "execution_count": 8,
   "id": "9203a471",
   "metadata": {},
   "outputs": [],
   "source": [
    "# Ans : SVM or Support Vector Machine is a linear model for classification and regression problems. It can solve linear and \n",
    "#       non-linear problems and work well for many practical problems. The idea of SVM is simple: The algorithm creates a line\n",
    "#       or a hyperplane which separates the data into classes."
   ]
  },
  {
   "cell_type": "markdown",
   "id": "4fc35d57",
   "metadata": {},
   "source": [
    "# 11. What are the benefits of using the SVM model?"
   ]
  },
  {
   "cell_type": "code",
   "execution_count": 9,
   "id": "274c85cf",
   "metadata": {},
   "outputs": [],
   "source": [
    "# Ans : SVM works relatively well when there is a clear margin of separation between classes. SVM is more effective in high \n",
    "#       dimensional spaces. SVM is effective in cases where the number of dimensions is greater than the number of samples.\n",
    "#       SVM is relatively memory efficient."
   ]
  },
  {
   "cell_type": "markdown",
   "id": "a81bf07c",
   "metadata": {},
   "source": [
    "# 12. What are the drawbacks of using the SVM model?"
   ]
  },
  {
   "cell_type": "code",
   "execution_count": 10,
   "id": "1f3d5808",
   "metadata": {},
   "outputs": [],
   "source": [
    "# Ans : SVM algorithm is not suitable for large data sets. SVM does not perform very well when the data set has more noise i.e.\n",
    "#       target classes are overlapping. In cases where the number of features for each data point exceeds the number of \n",
    "#       training data samples, the SVM will underperform."
   ]
  },
  {
   "cell_type": "markdown",
   "id": "e49f109f",
   "metadata": {},
   "source": [
    "# 13. Notes should be written on\n",
    "\n",
    "# 1. The kNN algorithm has a validation flaw."
   ]
  },
  {
   "cell_type": "code",
   "execution_count": 11,
   "id": "48b1acf4",
   "metadata": {},
   "outputs": [],
   "source": [
    "# Ans : The relatively low accuracy of kNN is caused by several factors. One of them is that every characteristic of the method \n",
    "#       has the same result on calculating distance. The solution of this problem is to give weight to each data \n",
    "#       characteristic."
   ]
  },
  {
   "cell_type": "markdown",
   "id": "df669fdc",
   "metadata": {},
   "source": [
    "# 2. In the kNN algorithm, the k value is chosen."
   ]
  },
  {
   "cell_type": "code",
   "execution_count": 12,
   "id": "22712c4d",
   "metadata": {},
   "outputs": [],
   "source": [
    "# Ans : The optimal K value usually found is the square root of N, where N is the total number of samples. Use an error plot \n",
    "#       or accuracy plot to find the most favorable K value. KNN performs well with multi-label classes, but you must be aware\n",
    "#       of the outliers."
   ]
  },
  {
   "cell_type": "markdown",
   "id": "84fa1529",
   "metadata": {},
   "source": [
    "# 3. A decision tree with inductive bias"
   ]
  },
  {
   "cell_type": "code",
   "execution_count": 13,
   "id": "d8b99c01",
   "metadata": {},
   "outputs": [],
   "source": [
    "# Ans : Shorter trees are preferred over longer ones.\n",
    "#       Trees that place high information gain attributes close to the root are preferred over those that do not."
   ]
  },
  {
   "cell_type": "markdown",
   "id": "0ce64e4b",
   "metadata": {},
   "source": [
    "# 14. What are some of the benefits of the kNN algorithm?"
   ]
  },
  {
   "cell_type": "code",
   "execution_count": 14,
   "id": "64eb3d49",
   "metadata": {},
   "outputs": [],
   "source": [
    "# Ans : Some Advantages of KNN\n",
    "#       Quick calculation time.\n",
    "#       Simple algorithm – to interpret.\n",
    "#       Versatile – useful for regression and classification.\n",
    "#       High accuracy – you do not need to compare with better-supervised learning models."
   ]
  },
  {
   "cell_type": "markdown",
   "id": "eeb08311",
   "metadata": {},
   "source": [
    "# 15. What are some of the kNN algorithm&#39;s drawbacks?"
   ]
  },
  {
   "cell_type": "code",
   "execution_count": 15,
   "id": "95a11da9",
   "metadata": {},
   "outputs": [],
   "source": [
    "# Ans : Some Disadvantages of KNN\n",
    "#       Accuracy depends on the quality of the data.\n",
    "#       With large data, the prediction stage might be slow.\n",
    "#       Sensitive to the scale of the data and irrelevant features.\n",
    "#       Require high memory – need to store all of the training data.\n",
    "#       Given that it stores all of the training, it can be computationally expensive."
   ]
  },
  {
   "cell_type": "markdown",
   "id": "d3182967",
   "metadata": {},
   "source": [
    "# 16. Explain the decision tree algorithm in a few words. "
   ]
  },
  {
   "cell_type": "code",
   "execution_count": 16,
   "id": "dac9fd3b",
   "metadata": {},
   "outputs": [],
   "source": [
    "# Ans : A decision tree is a graphical representation of all the possible solutions to a decision based on certain conditions.\n",
    "#       Tree models where the target variable can take a finite set of values are called classification trees and target\n",
    "#       variable can take continuous values (numbers) are called regression trees."
   ]
  },
  {
   "cell_type": "markdown",
   "id": "379910d0",
   "metadata": {},
   "source": [
    "# 17. What is the difference between a node and a leaf in a decision tree?"
   ]
  },
  {
   "cell_type": "code",
   "execution_count": 17,
   "id": "338db683",
   "metadata": {},
   "outputs": [],
   "source": [
    "# Ans : A decision tree is a flowchart-like structure in which each internal node represents a \"test\" on an attribute \n",
    "#       (e.g. whether a coin flip comes up heads or tails), each branch represents the outcome of the test, and each leaf node\n",
    "#       represents a class label (decision taken after computing all attributes)."
   ]
  },
  {
   "cell_type": "markdown",
   "id": "c1f9a19d",
   "metadata": {},
   "source": [
    "# 18. What is a decision tree&#39;s entropy?"
   ]
  },
  {
   "cell_type": "code",
   "execution_count": 18,
   "id": "e45b664b",
   "metadata": {},
   "outputs": [],
   "source": [
    "# Ans : Entropy helps us to build an appropriate decision tree for selecting the best splitter. Entropy can be defined as a \n",
    "#       measure of the purity of the sub split. Entropy always lies between 0 to 1. The entropy of any split can be calculated\n",
    "#       by this formula."
   ]
  },
  {
   "cell_type": "markdown",
   "id": "3a375d35",
   "metadata": {},
   "source": [
    "# 19. In a decision tree, define knowledge gain."
   ]
  },
  {
   "cell_type": "code",
   "execution_count": 19,
   "id": "b8841e19",
   "metadata": {},
   "outputs": [],
   "source": [
    "# Ans : Information gain is the reduction in entropy or surprise by transforming a dataset and is often used in training \n",
    "#       decision trees.Information gain is calculated by comparing the entropy of the dataset before and after a transformation."
   ]
  },
  {
   "cell_type": "markdown",
   "id": "e4bdd68b",
   "metadata": {},
   "source": [
    "# 20. Choose three advantages of the decision tree approach and write them down."
   ]
  },
  {
   "cell_type": "code",
   "execution_count": 20,
   "id": "846a4eb7",
   "metadata": {},
   "outputs": [],
   "source": [
    "# Ans :  Advantages of Decision Trees : \n",
    "#        Easy to read and interpret. One of the advantages of decision trees is that their outputs are easy to read and \n",
    "#        interpret without requiring statistical knowledge.\n",
    "#        Easy to prepare.\n",
    "#        Less data cleaning required."
   ]
  },
  {
   "cell_type": "markdown",
   "id": "41c0663a",
   "metadata": {},
   "source": [
    "# 21. Make a list of three flaws in the decision tree process."
   ]
  },
  {
   "cell_type": "code",
   "execution_count": 21,
   "id": "75228d2a",
   "metadata": {},
   "outputs": [],
   "source": [
    "# Ans : Issues in Decision Tree Learning : \n",
    "#       Overfitting the data.\n",
    "#       Guarding against bad attribute choices.\n",
    "#       Handling continuous valued attributes.\n",
    "#       Handling missing attribute values.\n",
    "#       Handling attributes with differing costs."
   ]
  },
  {
   "cell_type": "markdown",
   "id": "84a7edfc",
   "metadata": {},
   "source": [
    "# 22. Briefly describe the random forest model."
   ]
  },
  {
   "cell_type": "code",
   "execution_count": 22,
   "id": "9dd39405",
   "metadata": {},
   "outputs": [],
   "source": [
    "# Ans : The random forest is a classification algorithm consisting of many decisions trees. It uses bagging and feature \n",
    "#       randomness when building each individual tree to try to create an uncorrelated forest of trees whose prediction by \n",
    "#       committee is more accurate than that of any individual tree."
   ]
  }
 ],
 "metadata": {
  "kernelspec": {
   "display_name": "Python 3 (ipykernel)",
   "language": "python",
   "name": "python3"
  },
  "language_info": {
   "codemirror_mode": {
    "name": "ipython",
    "version": 3
   },
   "file_extension": ".py",
   "mimetype": "text/x-python",
   "name": "python",
   "nbconvert_exporter": "python",
   "pygments_lexer": "ipython3",
   "version": "3.9.7"
  }
 },
 "nbformat": 4,
 "nbformat_minor": 5
}
