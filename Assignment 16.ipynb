{
 "cells": [
  {
   "cell_type": "markdown",
   "id": "1e7c111b",
   "metadata": {},
   "source": [
    "# 1. In a linear equation, what is the difference between a dependent variable and an independent variable?"
   ]
  },
  {
   "cell_type": "code",
   "execution_count": 1,
   "id": "c16ee8aa",
   "metadata": {},
   "outputs": [],
   "source": [
    "# Ans : Algebraically, a linear equation typically takes the form y = mx + b, where m and b are constants, x is the \n",
    "#       independent variable, y is the dependent variable. The slope tells us how the dependent variable (y) changes for every\n",
    "#       one unit increase in the independent (x) variable, on average.\n",
    "#       The variables in a study of a cause-and-effect relationship are called the independent and dependent variables. The \n",
    "#       independent variable is the cause. Its value is independent of other variables in your study. The dependent variable \n",
    "#       is the effect."
   ]
  },
  {
   "cell_type": "markdown",
   "id": "aa9a5e16",
   "metadata": {},
   "source": [
    "# 2. What is the concept of simple linear regression? Give a specific example."
   ]
  },
  {
   "cell_type": "code",
   "execution_count": 2,
   "id": "4b85c56f",
   "metadata": {},
   "outputs": [],
   "source": [
    "# Ans : Simple linear regression is a regression model that estimates the relationship between one independent variable and one\n",
    "#       dependent variable using a straight line. Both variables should be quantitative. Linear regression most often uses \n",
    "#       mean-square error (MSE) to calculate the error of the model.\n",
    "#       For example, suppose that height was the only determinant of body weight.In this example, if an individual was 70 \n",
    "#       inches tall, we would predict his weight to be: Weight = 80 + 2 x (70) = 220 lbs. In this simple linear regression, we\n",
    "#       are examining the impact of one independent variable on the outcome."
   ]
  },
  {
   "cell_type": "markdown",
   "id": "f614e227",
   "metadata": {},
   "source": [
    "# 3. In a linear regression, define the slope."
   ]
  },
  {
   "cell_type": "code",
   "execution_count": 3,
   "id": "eccae622",
   "metadata": {},
   "outputs": [],
   "source": [
    "# Ans : The slope of a regression line (b) represents the rate of change in y as x changes. Because y is dependent on x, the \n",
    "#       slope describes the predicted values of y given x. The slope must be calculated before the y-intercept when using a \n",
    "#       linear regression, as the intercept is calculated using the slope."
   ]
  },
  {
   "cell_type": "markdown",
   "id": "f8241bbe",
   "metadata": {},
   "source": [
    "# 4. Determine the graph&#39;s slope, where the lower point on the line is represented as (3, 2) and the higher point is represented as (2, 2)."
   ]
  },
  {
   "cell_type": "code",
   "execution_count": 4,
   "id": "96adc779",
   "metadata": {},
   "outputs": [],
   "source": [
    "# Ans : 0"
   ]
  },
  {
   "cell_type": "markdown",
   "id": "5d8278e9",
   "metadata": {},
   "source": [
    "# 5. In linear regression, what are the conditions for a positive slope?"
   ]
  },
  {
   "cell_type": "code",
   "execution_count": 6,
   "id": "8c7925bb",
   "metadata": {},
   "outputs": [],
   "source": [
    "# Ans : If the slope is positive, y increases as x increases, and the function runs \"uphill\" (going left to right). \n",
    "#       If the slope is zero, y does not change, thus is constant—a horizontal line."
   ]
  },
  {
   "cell_type": "markdown",
   "id": "b12b1fd0",
   "metadata": {},
   "source": [
    "# 6. In linear regression, what are the conditions for a negative slope?"
   ]
  },
  {
   "cell_type": "code",
   "execution_count": 7,
   "id": "aeca8515",
   "metadata": {},
   "outputs": [],
   "source": [
    "# Ans : If the slope is negative, y decreases as x increases and the function runs downhill."
   ]
  },
  {
   "cell_type": "markdown",
   "id": "70fe901c",
   "metadata": {},
   "source": [
    "# 7. What is multiple linear regression and how does it work?"
   ]
  },
  {
   "cell_type": "code",
   "execution_count": 8,
   "id": "d4a01ffb",
   "metadata": {},
   "outputs": [],
   "source": [
    "# Ans : Multiple linear regression refers to a statistical technique that uses two or more independent variables to predict\n",
    "#       the outcome of a dependent variable. The technique enables analysts to determine the variation of the model and the \n",
    "#       relative contribution of each independent variable in the total variance."
   ]
  },
  {
   "cell_type": "markdown",
   "id": "aef18e25",
   "metadata": {},
   "source": [
    "# 8. In multiple linear regression, define the number of squares due to error."
   ]
  },
  {
   "cell_type": "code",
   "execution_count": 9,
   "id": "03d3ef99",
   "metadata": {},
   "outputs": [],
   "source": [
    "# Ans : The mean squared error (MSE) tells you how close a regression line is to a set of points. It does this by taking the\n",
    "#       distances from the points to the regression line (these distances are the “errors”) and squaring them.\n",
    "#       It's called the mean squared error as you're finding the average of a set of errors."
   ]
  },
  {
   "cell_type": "markdown",
   "id": "e1985af5",
   "metadata": {},
   "source": [
    "# 9. In multiple linear regression, define the number of squares due to regression."
   ]
  },
  {
   "cell_type": "code",
   "execution_count": 10,
   "id": "cda93141",
   "metadata": {},
   "outputs": [],
   "source": [
    "# Ans : Sum of squares is a statistical technique used in regression analysis to determine the dispersion of data points. In a \n",
    "#       regression analysis, the goal is to determine how well a data series can be fitted to a function that might help to \n",
    "#       explain how the data series was generated."
   ]
  },
  {
   "cell_type": "markdown",
   "id": "cb3e635f",
   "metadata": {},
   "source": [
    "# 10. In a regression equation, what is multicollinearity?"
   ]
  },
  {
   "cell_type": "code",
   "execution_count": 11,
   "id": "cdc4ce47",
   "metadata": {},
   "outputs": [],
   "source": [
    "# Ans : Multicollinearity occurs when two or more independent variables are highly correlated with one another in a regression\n",
    "#       model. This means that an independent variable can be predicted from another independent variable in a regression model."
   ]
  },
  {
   "cell_type": "markdown",
   "id": "6b2501ed",
   "metadata": {},
   "source": [
    "# 11. What is heteroskedasticity, and what does it mean?"
   ]
  },
  {
   "cell_type": "code",
   "execution_count": 12,
   "id": "468459ec",
   "metadata": {},
   "outputs": [],
   "source": [
    "# Ans :  heteroskedasticity (also spelled heteroscedasticity) refers to the error variance, or dependence of scattering, within\n",
    "#        a minimum of one independent variable within a particular sample.A common cause of variances outside the minimum\n",
    "#        requirement is often attributed to issues of data quality."
   ]
  },
  {
   "cell_type": "markdown",
   "id": "b2625cda",
   "metadata": {},
   "source": [
    "# 12. Describe the concept of ridge regression."
   ]
  },
  {
   "cell_type": "code",
   "execution_count": 13,
   "id": "963c366b",
   "metadata": {},
   "outputs": [],
   "source": [
    "# Ans : Ridge Regression is a technique for analyzing multiple regression data that suffer from multicollinearity.By adding a \n",
    "#       degree of bias to the regression estimates, ridge regression reduces the standard errors. It is hoped that the net \n",
    "#         effect will be to give estimates that are more reliable."
   ]
  },
  {
   "cell_type": "markdown",
   "id": "4ed59a5d",
   "metadata": {},
   "source": [
    "# 13. Describe the concept of lasso regression."
   ]
  },
  {
   "cell_type": "code",
   "execution_count": 14,
   "id": "6e6f2dd3",
   "metadata": {},
   "outputs": [],
   "source": [
    "# Ans : In statistics and machine learning, lasso (least absolute shrinkage and selection operator; also Lasso or LASSO) is a\n",
    "#       regression analysis method that performs both variable selection and regularization in order to enhance the prediction\n",
    "#       accuracy and interpretability of the resulting statistical model."
   ]
  },
  {
   "cell_type": "markdown",
   "id": "12f4199d",
   "metadata": {},
   "source": [
    "# 14. What is polynomial regression and how does it work?"
   ]
  },
  {
   "cell_type": "code",
   "execution_count": 15,
   "id": "b1b5eef9",
   "metadata": {},
   "outputs": [],
   "source": [
    "# Ans : Polynomial Regression is a form of Linear regression known as a special case of Multiple linear regression which \n",
    "#       estimates the relationship as an nth degree polynomial. Polynomial Regression is sensitive to outliers so the presence \n",
    "#       of one or two outliers can also badly affect the performance."
   ]
  },
  {
   "cell_type": "markdown",
   "id": "4e8250de",
   "metadata": {},
   "source": [
    "# 15. Describe the basis function."
   ]
  },
  {
   "cell_type": "code",
   "execution_count": 16,
   "id": "d10ee6aa",
   "metadata": {},
   "outputs": [],
   "source": [
    "# Ans : This is a generalization of linear regression that essentially replaces each input with a function of the input. \n",
    "#       (A linear basis function model that uses the identity function is just linear regression.)"
   ]
  },
  {
   "cell_type": "markdown",
   "id": "b3a99010",
   "metadata": {},
   "source": [
    "# 16. Describe how logistic regression works."
   ]
  },
  {
   "cell_type": "code",
   "execution_count": null,
   "id": "13b8be9b",
   "metadata": {},
   "outputs": [],
   "source": [
    "# Ans : Logistic regression uses an equation as the representation, very much like linear regression. Input values (x) are \n",
    "#       combined linearly using weights or coefficient values (referred to as the Greek capital letter Beta) to predict an \n",
    "#       output value (y)."
   ]
  }
 ],
 "metadata": {
  "kernelspec": {
   "display_name": "Python 3 (ipykernel)",
   "language": "python",
   "name": "python3"
  },
  "language_info": {
   "codemirror_mode": {
    "name": "ipython",
    "version": 3
   },
   "file_extension": ".py",
   "mimetype": "text/x-python",
   "name": "python",
   "nbconvert_exporter": "python",
   "pygments_lexer": "ipython3",
   "version": "3.9.7"
  }
 },
 "nbformat": 4,
 "nbformat_minor": 5
}
