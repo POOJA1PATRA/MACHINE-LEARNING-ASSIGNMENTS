{
 "cells": [
  {
   "cell_type": "markdown",
   "id": "5d00a7fc",
   "metadata": {},
   "source": [
    "# 1.Explain the term machine learning, and how does it work? Explain two machine learning applications in the business world. What are some of the ethical concerns that machine learning applications could raise?"
   ]
  },
  {
   "cell_type": "code",
   "execution_count": 2,
   "id": "6e7ec486",
   "metadata": {},
   "outputs": [],
   "source": [
    "# Ans : Machine learning is a form of artificial intelligence (AI) that teaches computers to think in a similar way to how \n",
    "#       humans do: Learning and improving upon past experiences. It works by exploring data and identifying patterns, and \n",
    "#       involves minimal human intervention. \n",
    "#       There are various applications in Business World : \n",
    "#       Real-time chatbot agents.\n",
    "#       Decision support.\n",
    "#       Customer recommendation engines.\n",
    "#       Customer churn modeling.\n",
    "#       Dynamic pricing tactics.\n",
    "#       Market research and customer segmentation.\n",
    "#       Fraud detection.\n",
    "#       Also there are some of the ethical concerns that ML applications could raise :\n",
    "#       AI presents three major areas of ethical concern for society: privacy and surveillance, bias and discrimination, \n",
    "#       and perhaps the deepest, most difficult philosophical question of the era, the role of human judgment, said Sandel, \n",
    "#       who teaches a course in the moral, social, and political implications of new technologies."
   ]
  },
  {
   "cell_type": "markdown",
   "id": "d98839a4",
   "metadata": {},
   "source": [
    "# 2. Describe the process of human learning:\n",
    "# i. Under the supervision of experts"
   ]
  },
  {
   "cell_type": "code",
   "execution_count": 1,
   "id": "16e7750f",
   "metadata": {},
   "outputs": [],
   "source": [
    "# Ans : Human-guided machine learning is a process whereby subject matter experts accelerate the learning process by teaching \n",
    "#       the technology in real-time. For example, if the machine learning model comes across a piece of data it is uncertain \n",
    "#       about, a human can be asked to weigh in and give feedback. The model then learns from this input, and uses it to make \n",
    "#       a more accurate prediction the next time. Human-guided machine learning works from the bottom up by first using \n",
    "#       algorithms to conduct the heavy lifting of identifying relationships within the data, and engaging humans when necessary\n",
    "#       for training or validation. "
   ]
  },
  {
   "cell_type": "markdown",
   "id": "b9efcda3",
   "metadata": {},
   "source": [
    "# ii. With the assistance of experts in an indirect manner"
   ]
  },
  {
   "cell_type": "code",
   "execution_count": 2,
   "id": "0cd76c14",
   "metadata": {},
   "outputs": [],
   "source": [
    "# Ans : Weel The process of an algorithm learning from the training dataset can be thought of as a teacher supervising the \n",
    "#       learning process. We know the correct answers, the algorithm iteratively makes predictions on the training data and is\n",
    "#       corrected by the teacher. Learning stops when the algorithm achieves an acceptable level of performance."
   ]
  },
  {
   "cell_type": "markdown",
   "id": "1bf066ef",
   "metadata": {},
   "source": [
    "# iii. Self-education"
   ]
  },
  {
   "cell_type": "code",
   "execution_count": 4,
   "id": "e509eb90",
   "metadata": {},
   "outputs": [],
   "source": [
    "# Ans : Ability to recognize patterns, learn from data, and become more intelligent over time (can be AI or programmatically \n",
    "#       based).Machine Learning: AI systems with ability to automatically learn and improve from experience without being \n",
    "#       explicitly programmed via training."
   ]
  },
  {
   "cell_type": "markdown",
   "id": "0765526c",
   "metadata": {},
   "source": [
    "# 3. Provide a few examples of various types of machine learning."
   ]
  },
  {
   "cell_type": "code",
   "execution_count": 1,
   "id": "e3d30513",
   "metadata": {},
   "outputs": [],
   "source": [
    "# Ans : Example of supervised learning is text classification problems. In this set of problems, the goal is to predict the \n",
    "#       class label of a given piece of text. One particularly popular topic in text classification is to predict the sentiment\n",
    "#       of a piece of text, like a tweet or a product review\n",
    "\n",
    "#       Example of Unsupervised Learning : Fraud detection, Malware detection , Identification of human errors during data entry\n",
    "#       Conducting accurate basket analysis, etc.\n",
    "\n",
    "#       Example of Reinforcement Learning : Applications in self-driving cars, \n",
    "#       Industry automation : learning-based robots are used to perform various tasks."
   ]
  },
  {
   "cell_type": "markdown",
   "id": "d0768396",
   "metadata": {},
   "source": [
    "# 4. Examine the various forms of machine learning. "
   ]
  },
  {
   "cell_type": "code",
   "execution_count": 2,
   "id": "87483ee1",
   "metadata": {},
   "outputs": [],
   "source": [
    "# Ans : These are three types of machine learning: supervised learning, unsupervised learning, and reinforcement learning."
   ]
  },
  {
   "cell_type": "markdown",
   "id": "7c9b5e13",
   "metadata": {},
   "source": [
    "# 5. Can you explain what a well-posed learning problem is?"
   ]
  },
  {
   "cell_type": "code",
   "execution_count": 3,
   "id": "3d63453d",
   "metadata": {},
   "outputs": [],
   "source": [
    "# Ans : Well Posed Learning Problem –A computer program is said to learn from experience E in context to some task T and some\n",
    "#       performance measure P, if its performance on T, as was measured by P, upgrades with experience E. Any problem can be\n",
    "#       segregated as well-posed learning problem if it has three traits – Task, Performance Measure, Experience."
   ]
  },
  {
   "cell_type": "markdown",
   "id": "f8a93de2",
   "metadata": {},
   "source": [
    "# 6. Is machine learning capable of solving all problems? Give a detailed explanation of your answer."
   ]
  },
  {
   "cell_type": "code",
   "execution_count": 4,
   "id": "cfb338aa",
   "metadata": {},
   "outputs": [],
   "source": [
    "# Ans : No, ML is not capable of solving all probems. There are some limitations with it. \n",
    "#       Limitation 1 — Ethics : If my self-driving car kills someone on the road, whose fault is it?\n",
    "#       Limitation 2 — Deterministic Problems : Machine learning is stochastic, not deterministic.\n",
    "#       Limitation 3 — Data : Lack of data, lack of good data.\n",
    "#       Limitation 4 — Misapplication"
   ]
  },
  {
   "cell_type": "markdown",
   "id": "b900bbaa",
   "metadata": {},
   "source": [
    "# 7. What are the various methods and technologies for solving machine learning problems? Any two of them should be defined in detail."
   ]
  },
  {
   "cell_type": "code",
   "execution_count": 5,
   "id": "2e7e0202",
   "metadata": {},
   "outputs": [],
   "source": [
    "# Ans : Scikit Learn , Pytorch, tensorflow, keras, python.\n",
    "#       1.Scikit Learn : Scikit-learn (Sklearn) is the most useful and robust library for machine learning in Python. \n",
    "#       It provides a selection of efficient tools for machine learning and statistical modeling including classification,\n",
    "#       regression, clustering and dimensionality reduction via a consistence interface in Python.\n",
    "#       2.Tensorflow :It is an open source artificial intelligence library, using data flow graphs to build models. It allows\n",
    "#       developers to create large-scale neural networks with many layers. TensorFlow is mainly used for: Classification,\n",
    "#       Perception, Understanding, Discovering, Prediction and Creation."
   ]
  },
  {
   "cell_type": "markdown",
   "id": "b2823bdb",
   "metadata": {},
   "source": [
    "# 8. Can you explain the various forms of supervised learning? Explain each one with an example application."
   ]
  },
  {
   "cell_type": "code",
   "execution_count": 6,
   "id": "ac81d692",
   "metadata": {},
   "outputs": [],
   "source": [
    "# Ans : 1. Regression : In regression, a single output value is produced using training data.For example, regression can \n",
    "#       help predict the price of a house based on its locality, size, etc.\n",
    "#       2. Classification : It involves grouping the data into classes.eg. If you are thinking of extending credit to a person,\n",
    "#       you can use classification to determine whether or not a person would be a loan defaulter.\n",
    "#       3. Naive Bayesian Model: The Bayesian model of classification is used for large finite datasets. It is a method of\n",
    "#       assigning class labels using a direct acyclic graph.\n",
    "#       4.Decision Trees : A decision tree is a flowchart-like model that contains conditional control statements, comprising\n",
    "#       decisions and their probable consequences. The output relates to the labelling of unforeseen data."
   ]
  },
  {
   "cell_type": "markdown",
   "id": "195f6563",
   "metadata": {},
   "source": [
    "# 9. What is the difference between supervised and unsupervised learning?"
   ]
  },
  {
   "cell_type": "code",
   "execution_count": 7,
   "id": "813da305",
   "metadata": {},
   "outputs": [],
   "source": [
    "# Ans : The main distinction between the two approaches is the use of labeled datasets. To put it simply, supervised learning \n",
    "#       uses labeled input and output data, while an unsupervised learning algorithm does not.Unsupervised learning models,\n",
    "#       in contrast, work on their own to discover the inherent structure of unlabeled data."
   ]
  },
  {
   "cell_type": "markdown",
   "id": "74c16d87",
   "metadata": {},
   "source": [
    "# 10. Describe the machine learning process in depth."
   ]
  },
  {
   "cell_type": "code",
   "execution_count": 8,
   "id": "89792f23",
   "metadata": {},
   "outputs": [],
   "source": [
    "# Ans : Imagine a dataset as a table, where the rows are each observation (aka measurement, data point, etc), and the columns \n",
    "#       for each observation represent the features of that observation and their values.At the outset of a machine learning\n",
    "#       project, a dataset is usually split into two or three subsets. The minimum subsets are the training and test datasets,\n",
    "#       and often an optional third validation dataset is created as well. Once these data subsets are created from the primary \n",
    "#       dataset, a predictive model or classifier is trained using the training data, and then the model’s predictive accuracy \n",
    "#       is determined using the test data. As, machine learning leverages algorithms to automatically model and find patterns\n",
    "#       in data, usually with the goal of predicting some target output or response. These algorithms are heavily based on\n",
    "#       statistics and mathematical optimization. Optimization is the process of finding the smallest or largest value\n",
    "#       (minima or maxima) of a function, often referred to as a loss, or cost function in the minimization case. One of the \n",
    "#       most popular optimization algorithms used in machine learning is called gradient descent, and another is known as the \n",
    "#       the normal equation. In a nutshell, machine learning is all about automatically learning a highly accurate predictive\n",
    "#       or classifier model, or finding unknown patterns in data, by leveraging learning algorithms and optimization techniques."
   ]
  },
  {
   "cell_type": "markdown",
   "id": "c53ef9c3",
   "metadata": {},
   "source": [
    "# a. Make brief notes on any two of the following:"
   ]
  },
  {
   "cell_type": "markdown",
   "id": "4ceb7b8c",
   "metadata": {},
   "source": [
    "# i. MATLAB is one of the most widely used programming languages.\n",
    "# ii. Deep learning applications in healthcare:"
   ]
  },
  {
   "cell_type": "code",
   "execution_count": 9,
   "id": "0f5551cb",
   "metadata": {},
   "outputs": [],
   "source": [
    "# Ans : Deep learning is assisting medical professionals and researchers to discover the hidden opportunities in data and to \n",
    "#       serve the healthcare industry better. Deep learning in healthcare provides doctors the analysis of any disease \n",
    "#       accurately and helps them treat them better, thus resulting in better medical decisions. Drug discovery,Medical imaging\n",
    "#       Insurance fraud."
   ]
  },
  {
   "cell_type": "markdown",
   "id": "221d023b",
   "metadata": {},
   "source": [
    "# iii. Study of the market basket\n",
    "\n",
    "# iv. Linear regression (simple) :The Linear Regression Equation"
   ]
  },
  {
   "cell_type": "code",
   "execution_count": 11,
   "id": "6e8c0ffb",
   "metadata": {},
   "outputs": [],
   "source": [
    "# Ans : The equation has the form Y= a + bX, where Y is the dependent variable (that's the variable that goes on the Y axis), \n",
    "#       X is the independent variable (i.e. it is plotted on the X axis), b is the slope of the line and a is the y-intercept.\n",
    "#       Simple linear regression is a regression model that estimates the relationship between one independent variable and one \n",
    "#       dependent variable using a straight line. Both variables should be quantitative.Linear regression most often uses \n",
    "#       mean-square error (MSE) to calculate the error of the model"
   ]
  },
  {
   "cell_type": "markdown",
   "id": "3b2aac07",
   "metadata": {},
   "source": [
    "# 11. Make a comparison between:-"
   ]
  },
  {
   "cell_type": "code",
   "execution_count": 12,
   "id": "eefac981",
   "metadata": {},
   "outputs": [],
   "source": [
    "# Ans : 1. Generalization and abstraction : Abstraction is the process of removing details of objects.A generalization, then, \n",
    "#       is the formulation of general concepts from specific instances by abstracting common properties. A concrete object can \n",
    "#       be looked at as a “subset” of a more generalized object.\n",
    "#       2.Learning that is guided and unsupervised : In supervised learning we have labeled data at the training time we have\n",
    "#       outputs based on that we make predictions but in unsupervised we don't have labelled data. Clusters made based on \n",
    "#       similarity.\n",
    "#       3. Regression and classification : Both are supervised problem but in regression we have continuous data means in \n",
    "#       numerical form but in classification we have classes, discrete data like yes & no."
   ]
  }
 ],
 "metadata": {
  "kernelspec": {
   "display_name": "Python 3",
   "language": "python",
   "name": "python3"
  },
  "language_info": {
   "codemirror_mode": {
    "name": "ipython",
    "version": 3
   },
   "file_extension": ".py",
   "mimetype": "text/x-python",
   "name": "python",
   "nbconvert_exporter": "python",
   "pygments_lexer": "ipython3",
   "version": "3.8.8"
  }
 },
 "nbformat": 4,
 "nbformat_minor": 5
}
