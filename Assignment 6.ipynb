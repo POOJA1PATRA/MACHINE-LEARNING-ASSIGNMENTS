{
 "cells": [
  {
   "cell_type": "markdown",
   "id": "85ab88a1",
   "metadata": {},
   "source": [
    "# 1. In the sense of machine learning, what is a model? What is the best way to train a model?"
   ]
  },
  {
   "cell_type": "code",
   "execution_count": 2,
   "id": "17223de6",
   "metadata": {},
   "outputs": [],
   "source": [
    "# Ans : A machine learning model is a file that has been trained to recognize certain types of patterns. You train a model over\n",
    "#       a set of data, providing it an algorithm that it can use to reason over and learn from those data.\n",
    "#       1) Model Naming — Give Your Model a Name: Let’s start with giving your model a name, describe your model and attach \n",
    "#       tags to your model. Tags are to make your model searchable.\n",
    "#       2) Data Type Selection — Choose data type(Images/Text/CSV): It’s time to tell us about the type of data you want to \n",
    "#       train your model. We support Images, Text and *.CSV (categorical data) data types.\n",
    "#       3) Data Upload — Upload your data or choose from Public Data Sets: Choose from public datasets like Jewellery Data set\n",
    "#       (Images), Gender Data Set (Images), Question or Sentence Data Set (Text), Numerai Data Set (CSV) or upload your data. \n",
    "#       4) Type category(label) for the files (images/text file) that you have uploaded and click on submit to begin upload. \n",
    "#       Wait for some time till our web app uploads all the files. You can upload images for as many categories as possible.\n",
    "#       5) Start Training: Push the button, to start the training. Now Mateverse’s intelligent backend will start with \n",
    "#       processing the data that you have uploaded and preparing it for the training. "
   ]
  },
  {
   "cell_type": "markdown",
   "id": "a8000461",
   "metadata": {},
   "source": [
    "# 2. In the sense of machine learning, explain the &quot;No Free Lunch&quot; theorem."
   ]
  },
  {
   "cell_type": "code",
   "execution_count": 1,
   "id": "6e6245c7",
   "metadata": {},
   "outputs": [],
   "source": [
    "# Ans : The No Free Lunch Theorem, often abbreviated as NFL or NFLT, is a theoretical finding that suggests all optimization\n",
    "#       algorithms perform equally well when their performance is averaged over all possible objective functions.\n",
    "#       In computational complexity and optimization the no free lunch theorem is a result that states that for certain types \n",
    "#       of mathematical problems, the computational cost of finding a solution, averaged over all problems in the class, is the\n",
    "#       same for any solution method."
   ]
  },
  {
   "cell_type": "markdown",
   "id": "b228b3a3",
   "metadata": {},
   "source": [
    "# 3. Describe the K-fold cross-validation mechanism in detail."
   ]
  },
  {
   "cell_type": "code",
   "execution_count": 2,
   "id": "7608ac60",
   "metadata": {},
   "outputs": [],
   "source": [
    "# Ans : Cross-validation is a resampling procedure used to evaluate machine learning models on a limited data sample. The \n",
    "#       procedure has a single parameter called k that refers to the number of groups that a given data sample is to be split \n",
    "#       into. Take the group as a hold out or test data set."
   ]
  },
  {
   "cell_type": "markdown",
   "id": "a531ff99",
   "metadata": {},
   "source": [
    "# 4. Describe the bootstrap sampling method. What is the aim of it?"
   ]
  },
  {
   "cell_type": "code",
   "execution_count": 3,
   "id": "ac73274a",
   "metadata": {},
   "outputs": [],
   "source": [
    "# Ans : The bootstrap method is a resampling technique used to estimate statistics on a population by sampling a dataset with \n",
    "#       replacement. The bootstrap method involves iteratively resampling a dataset with replacement. That when using the\n",
    "#       bootstrap you must choose the size of the sample and the number of repeats."
   ]
  },
  {
   "cell_type": "markdown",
   "id": "e87e8247",
   "metadata": {},
   "source": [
    "# 5. What is the significance of calculating the Kappa value for a classification model? Demonstrate how to measure the Kappa value of a classification model using a sample collection of results."
   ]
  },
  {
   "cell_type": "code",
   "execution_count": 4,
   "id": "d56f01e0",
   "metadata": {},
   "outputs": [],
   "source": [
    "# Ans : It basically tells you how much better your classifier is performing over the performance of a classifier that simply \n",
    "#       guesses at random according to the frequency of each class. Cohen's kappa is always less than or equal to 1. Values of\n",
    "#       0 or less, indicate that the classifier is useless\n",
    "#       Cohen suggested the Kappa result be interpreted as follows: values ≤ 0 as indicating no agreement and 0.01–0.20 as none\n",
    "#       to slight, 0.21–0.40 as fair, 0.41– 0.60 as moderate, 0.61–0.80 as substantial, and 0.81–1.00 as almost perfect \n",
    "#       agreement."
   ]
  },
  {
   "cell_type": "markdown",
   "id": "4cf92b7d",
   "metadata": {},
   "source": [
    "# 6. Describe the model ensemble method. In machine learning, what part does it play?"
   ]
  },
  {
   "cell_type": "code",
   "execution_count": 5,
   "id": "8359ea4c",
   "metadata": {},
   "outputs": [],
   "source": [
    "# Ans : Ensemble methods is a machine learning technique that combines several base models in order to produce one optimal \n",
    "#       predictive model. To better understand this definition lets take a step back into ultimate goal of machine learning\n",
    "#       and model building."
   ]
  },
  {
   "cell_type": "markdown",
   "id": "1f575f05",
   "metadata": {},
   "source": [
    "# 7. What is a descriptive model&#39;s main purpose? Give examples of real-world problems that descriptive models were used to solve."
   ]
  },
  {
   "cell_type": "code",
   "execution_count": 6,
   "id": "24ceff36",
   "metadata": {},
   "outputs": [],
   "source": [
    "# Ans : A descriptive model describes a system or other entity and its relationship to its environment. It is generally used to\n",
    "#       help specify and/or understand what the system is, what it does, and how it does it.\n",
    "#       Descriptive modeling is a mathematical process that describes real-world events and the relationships between factors\n",
    "#       responsible for them. The process is used by consumer-driven organizations to help them target their marketing and \n",
    "#       advertising efforts."
   ]
  },
  {
   "cell_type": "markdown",
   "id": "b2d20aaa",
   "metadata": {},
   "source": [
    "# 8. Describe how to evaluate a linear regression model."
   ]
  },
  {
   "cell_type": "code",
   "execution_count": 7,
   "id": "18a420ce",
   "metadata": {},
   "outputs": [],
   "source": [
    "# Ans : There are 3 main metrics for model evaluation in regression:\n",
    "# R Square/Adjusted R Square.\n",
    "# Mean Square Error(MSE)/Root Mean Square Error(RMSE)\n",
    "# Mean Absolute Error(MAE)"
   ]
  },
  {
   "cell_type": "markdown",
   "id": "3c80937a",
   "metadata": {},
   "source": [
    "# 9. Distinguish :\n",
    "\n",
    "# 1. Descriptive vs. predictive models"
   ]
  },
  {
   "cell_type": "code",
   "execution_count": 8,
   "id": "36a4d82e",
   "metadata": {},
   "outputs": [],
   "source": [
    "# Ans : A descriptive model will exploit the past data that are stored in databases and provide you with the accurate report.\n",
    "#       In a Predictive model, it identifies patterns found in past and transactional data to find risks and future outcomes."
   ]
  },
  {
   "cell_type": "markdown",
   "id": "dd16cbef",
   "metadata": {},
   "source": [
    "# 2. Underfitting vs. overfitting the model"
   ]
  },
  {
   "cell_type": "code",
   "execution_count": 9,
   "id": "0d67bc7f",
   "metadata": {},
   "outputs": [],
   "source": [
    "# Ans : Your model is underfitting the training data when the model performs poorly on the training data.\n",
    "#       Your model is overfitting your training data when you see that the model performs well on the training data but does\n",
    "#       not perform well on the evaluation data."
   ]
  },
  {
   "cell_type": "markdown",
   "id": "154c7c18",
   "metadata": {},
   "source": [
    "# 3. Bootstrapping vs. cross-validation"
   ]
  },
  {
   "cell_type": "code",
   "execution_count": 10,
   "id": "e753e3f7",
   "metadata": {},
   "outputs": [],
   "source": [
    "# Ans : Cross validation splits the available dataset to create multiple datasets, and Bootstrapping method uses the original \n",
    "#       dataset to create multiple datasets after resampling with replacement."
   ]
  },
  {
   "cell_type": "markdown",
   "id": "65b23e9a",
   "metadata": {},
   "source": [
    "# 10. Make quick notes on:\n",
    "\n",
    "# 1. LOOCV."
   ]
  },
  {
   "cell_type": "code",
   "execution_count": 11,
   "id": "1b657b1d",
   "metadata": {},
   "outputs": [],
   "source": [
    "# Ans : LOOCV(Leave One Out Cross-Validation) is a type of cross-validation approach in which each observation is considered as\n",
    "# the validation set and the rest (N-1) observations are considered as the training set. In LOOCV, fitting of the model is done \n",
    "# and predicting using one observation validation set."
   ]
  },
  {
   "cell_type": "markdown",
   "id": "86560157",
   "metadata": {},
   "source": [
    "# 4. Receiver operating characteristic curve"
   ]
  },
  {
   "cell_type": "code",
   "execution_count": 12,
   "id": "5984cb12",
   "metadata": {},
   "outputs": [],
   "source": [
    "# Ans : A receiver operating characteristic curve, or ROC curve, is a graphical plot that illustrates the diagnostic ability \n",
    "#       of a binary classifier system as its discrimination threshold is varied. The method was originally developed for\n",
    "#       operators of military radar receivers starting in 1941, which led to its name."
   ]
  }
 ],
 "metadata": {
  "kernelspec": {
   "display_name": "Python 3 (ipykernel)",
   "language": "python",
   "name": "python3"
  },
  "language_info": {
   "codemirror_mode": {
    "name": "ipython",
    "version": 3
   },
   "file_extension": ".py",
   "mimetype": "text/x-python",
   "name": "python",
   "nbconvert_exporter": "python",
   "pygments_lexer": "ipython3",
   "version": "3.9.7"
  }
 },
 "nbformat": 4,
 "nbformat_minor": 5
}
